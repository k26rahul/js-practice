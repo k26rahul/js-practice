{
 "cells": [
  {
   "cell_type": "code",
   "execution_count": 18,
   "metadata": {},
   "outputs": [
    {
     "name": "stdout",
     "output_type": "stream",
     "text": [
      "BOOM\n"
     ]
    }
   ],
   "source": [
    "let activePage = 'rahul';\n",
    "\n",
    "if (activePage != null) {\n",
    "  console.log('BOOM');\n",
    "}\n"
   ]
  },
  {
   "cell_type": "code",
   "execution_count": 7,
   "metadata": {},
   "outputs": [
    {
     "data": {
      "text/plain": [
       "{\n",
       "  \u001b[32m\"0\"\u001b[39m: { text: \u001b[32m\"eat apple\"\u001b[39m, isDone: \u001b[33mfalse\u001b[39m, isStar: \u001b[33mfalse\u001b[39m },\n",
       "  \u001b[32m\"1\"\u001b[39m: { text: \u001b[32m\"eat banana\"\u001b[39m, isDone: \u001b[33mfalse\u001b[39m, isStar: \u001b[33mfalse\u001b[39m },\n",
       "  \u001b[32m\"2\"\u001b[39m: { text: \u001b[32m\"eat kiwi\"\u001b[39m, isDone: \u001b[33mfalse\u001b[39m, isStar: \u001b[33mfalse\u001b[39m }\n",
       "}"
      ]
     },
     "execution_count": 7,
     "metadata": {},
     "output_type": "execute_result"
    }
   ],
   "source": [
    "let todos = {};\n",
    "let count = 0;\n",
    "\n",
    "function addTodo(text) {\n",
    "  todos[count] = { text: text, isDone: false, isStar: false };\n",
    "  count++;\n",
    "}\n",
    "\n",
    "addTodo('eat apple');\n",
    "addTodo('eat banana');\n",
    "addTodo('eat kiwi');\n",
    "\n",
    "todos;\n"
   ]
  },
  {
   "cell_type": "code",
   "execution_count": 7,
   "metadata": {},
   "outputs": [
    {
     "data": {
      "text/plain": [
       "\u001b[32m'{\"salary\":10000,\"age\":22,\"home\":\"hbh\"}'\u001b[39m"
      ]
     },
     "execution_count": 7,
     "metadata": {},
     "output_type": "execute_result"
    }
   ],
   "source": [
    "let obj = {\n",
    "  salary: 10000,\n",
    "  age: 22,\n",
    "  home: 'hbh',\n",
    "};\n",
    "\n",
    "JSON.stringify(obj);\n"
   ]
  },
  {
   "cell_type": "code",
   "execution_count": 8,
   "metadata": {},
   "outputs": [
    {
     "data": {
      "text/plain": [
       "{ salary: \u001b[33m10000\u001b[39m, age: \u001b[33m22\u001b[39m, home: \u001b[32m\"hbh\"\u001b[39m }"
      ]
     },
     "execution_count": 8,
     "metadata": {},
     "output_type": "execute_result"
    }
   ],
   "source": [
    "JSON.parse('{\"salary\":10000,\"age\":22,\"home\":\"hbh\"}');\n"
   ]
  }
 ],
 "metadata": {
  "kernelspec": {
   "display_name": "Deno",
   "language": "typescript",
   "name": "deno"
  },
  "language_info": {
   "codemirror_mode": "typescript",
   "file_extension": ".ts",
   "mimetype": "text/x.typescript",
   "name": "typescript",
   "nbconvert_exporter": "script",
   "pygments_lexer": "typescript",
   "version": "5.5.2"
  }
 },
 "nbformat": 4,
 "nbformat_minor": 2
}
