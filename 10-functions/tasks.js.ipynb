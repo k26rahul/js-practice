{
 "cells": [
  {
   "cell_type": "markdown",
   "metadata": {},
   "source": [
    "### Task 1: Reverse String\n",
    "\n",
    "Write a function `reverseString(str)` that:\n",
    "\n",
    "- Takes a string `str` and returns it reversed."
   ]
  },
  {
   "cell_type": "code",
   "execution_count": 26,
   "metadata": {},
   "outputs": [],
   "source": [
    "function reverseString(str) {\n",
    "  let reversedStr = '';\n",
    "  for (let i = str.length - 1; i >= 0; i--) {\n",
    "    reversedStr += str[i];\n",
    "  }\n",
    "  return reversedStr;\n",
    "}\n"
   ]
  },
  {
   "cell_type": "code",
   "execution_count": 27,
   "metadata": {},
   "outputs": [],
   "source": [
    "function reverseString(str) {\n",
    "  return str.split('').reverse().join('');\n",
    "}\n"
   ]
  },
  {
   "cell_type": "code",
   "execution_count": 32,
   "metadata": {},
   "outputs": [
    {
     "name": "stdout",
     "output_type": "stream",
     "text": [
      "All tests passed ✅\n"
     ]
    }
   ],
   "source": [
    "console.assert(reverseString('a') === 'a', 'Case 1 Failed');\n",
    "console.assert(reverseString('ab') === 'ba', 'Case 2 Failed');\n",
    "console.assert(reverseString('hello') === 'olleh', 'Case 3 Failed');\n",
    "console.assert(reverseString('hello world') === 'dlrow olleh', 'Case 4 Failed');\n",
    "console.assert(reverseString('') === '', 'Case 5 Failed');\n",
    "console.log('All tests passed ✅');\n"
   ]
  },
  {
   "cell_type": "markdown",
   "metadata": {},
   "source": [
    "### Task 2: Capitalize First Letter\n",
    "\n",
    "Write a function `capitalizeFirstLetter(str)` that:\n",
    "\n",
    "- Takes a string `str` and returns the string with the first letter capitalized, and the rest of the letters in lowercase."
   ]
  },
  {
   "cell_type": "code",
   "execution_count": 29,
   "metadata": {},
   "outputs": [],
   "source": [
    "function capitalizeFirstLetter(str) {\n",
    "  return str[0].toUpperCase() + str.slice(1).toLowerCase();\n",
    "}\n"
   ]
  },
  {
   "cell_type": "code",
   "execution_count": 44,
   "metadata": {},
   "outputs": [
    {
     "ename": "TypeError",
     "evalue": "Cannot read properties of undefined (reading 'toUpperCase')",
     "output_type": "error",
     "traceback": [
      "Stack trace:",
      "TypeError: Cannot read properties of undefined (reading 'toUpperCase')",
      "    at capitalizeFirstLetter (<anonymous>:2:17)",
      "    at <anonymous>:5:16"
     ]
    }
   ],
   "source": [
    "console.assert(capitalizeFirstLetter('hello') === 'Hello', 'Case 1 Failed');\n",
    "console.assert(capitalizeFirstLetter('HELLO') === 'Hello', 'Case 2 Failed');\n",
    "console.assert(capitalizeFirstLetter('hELLo') === 'Hello', 'Case 3 Failed');\n",
    "console.assert(capitalizeFirstLetter('h') === 'H', 'Case 4 Failed');\n",
    "console.assert(capitalizeFirstLetter('') === '', 'Case 5 Failed');\n",
    "console.log('All tests passed ✅');\n"
   ]
  },
  {
   "cell_type": "markdown",
   "metadata": {},
   "source": [
    "### Task 3: Sort String Alphabetically\n",
    "\n",
    "Write a function `sortStringAlphabetically(str)` that:\n",
    "\n",
    "- Takes a string `str` and sorts its characters alphabetically.\n",
    "- Returns the sorted string."
   ]
  },
  {
   "cell_type": "code",
   "execution_count": 27,
   "metadata": {},
   "outputs": [],
   "source": [
    "function sortStringAlphabetically(str) {\n",
    "  return str.split('').sort().join('');\n",
    "}\n"
   ]
  },
  {
   "cell_type": "code",
   "execution_count": 28,
   "metadata": {},
   "outputs": [
    {
     "name": "stdout",
     "output_type": "stream",
     "text": [
      "All tests passed ✅\n"
     ]
    }
   ],
   "source": [
    "console.assert(sortStringAlphabetically('banana') === 'aaabnn');\n",
    "console.assert(sortStringAlphabetically('apple') === 'aelpp');\n",
    "console.assert(sortStringAlphabetically('hello') === 'ehllo');\n",
    "console.assert(sortStringAlphabetically('zyxw') === 'wxyz');\n",
    "console.log('All tests passed ✅');\n"
   ]
  },
  {
   "cell_type": "markdown",
   "metadata": {},
   "source": [
    "### Task 4: Number of Vowels\n",
    "\n",
    "Write a function `countVowels(str)` that:\n",
    "\n",
    "- Takes a string `str` and returns the number of vowels (a, e, i, o, u) in that string.\n",
    "- Consider both uppercase and lowercase vowels."
   ]
  },
  {
   "cell_type": "code",
   "execution_count": 29,
   "metadata": {},
   "outputs": [],
   "source": [
    "function countVowels(str) {\n",
    "  const vowels = 'aeiouAEIOU';\n",
    "  let count = 0;\n",
    "  for (let char of str) {\n",
    "    if (vowels.includes(char)) {\n",
    "      count++;\n",
    "    }\n",
    "  }\n",
    "  return count;\n",
    "}\n"
   ]
  },
  {
   "cell_type": "code",
   "execution_count": 30,
   "metadata": {},
   "outputs": [
    {
     "name": "stdout",
     "output_type": "stream",
     "text": [
      "All tests passed ✅\n"
     ]
    }
   ],
   "source": [
    "console.assert(countVowels('hello') === 2);\n",
    "console.assert(countVowels('aeiou') === 5);\n",
    "console.assert(countVowels('apple') === 2);\n",
    "console.assert(countVowels('bcdfgh') === 0);\n",
    "console.log('All tests passed ✅');\n"
   ]
  },
  {
   "cell_type": "markdown",
   "metadata": {},
   "source": [
    "### Task 5: Sum of Numbers\n",
    "\n",
    "Write a function `sumOfNumbers(arr)` that:\n",
    "\n",
    "- Takes an array of numbers `arr` and returns the sum of all numbers."
   ]
  },
  {
   "cell_type": "code",
   "execution_count": 31,
   "metadata": {},
   "outputs": [],
   "source": [
    "function sumOfNumbers(arr) {\n",
    "  return arr.reduce((sum, num) => sum + num, 0);\n",
    "}\n"
   ]
  },
  {
   "cell_type": "code",
   "execution_count": 32,
   "metadata": {},
   "outputs": [
    {
     "name": "stdout",
     "output_type": "stream",
     "text": [
      "All tests passed ✅\n"
     ]
    }
   ],
   "source": [
    "console.assert(sumOfNumbers([1, 2, 3, 4, 5]) === 15);\n",
    "console.assert(sumOfNumbers([10, 20, 30]) === 60);\n",
    "console.assert(sumOfNumbers([1, -1, 1, -1]) === 0);\n",
    "console.log('All tests passed ✅');\n"
   ]
  },
  {
   "cell_type": "markdown",
   "metadata": {},
   "source": [
    "### Task 6: Find Maximum\n",
    "\n",
    "Write a function `findMax(arr)` that:\n",
    "\n",
    "- Takes an array of numbers `arr` and returns the maximum number."
   ]
  },
  {
   "cell_type": "code",
   "execution_count": 33,
   "metadata": {},
   "outputs": [],
   "source": [
    "function findMax(arr) {\n",
    "  return Math.max(...arr);\n",
    "}\n"
   ]
  },
  {
   "cell_type": "code",
   "execution_count": 34,
   "metadata": {},
   "outputs": [
    {
     "name": "stdout",
     "output_type": "stream",
     "text": [
      "All tests passed ✅\n"
     ]
    }
   ],
   "source": [
    "console.assert(findMax([1, 2, 3, 4, 5]) === 5);\n",
    "console.assert(findMax([10, 20, 30]) === 30);\n",
    "console.assert(findMax([-1, -2, -3]) === -1);\n",
    "console.log('All tests passed ✅');\n"
   ]
  },
  {
   "cell_type": "markdown",
   "metadata": {},
   "source": [
    "### Task 7: Convert Years to Age\n",
    "\n",
    "Write a function `convertYearsToAge(yearOfBirth)` that:\n",
    "\n",
    "- Takes a number `yearOfBirth` representing the user's year of birth.\n",
    "- Returns the user's age based on the current year."
   ]
  },
  {
   "cell_type": "code",
   "execution_count": 35,
   "metadata": {},
   "outputs": [],
   "source": [
    "function convertYearsToAge(yearOfBirth) {\n",
    "  const currentYear = new Date().getFullYear();\n",
    "  return currentYear - yearOfBirth;\n",
    "}\n"
   ]
  },
  {
   "cell_type": "code",
   "execution_count": 36,
   "metadata": {},
   "outputs": [
    {
     "name": "stdout",
     "output_type": "stream",
     "text": [
      "All tests passed ✅\n"
     ]
    }
   ],
   "source": [
    "console.assert(convertYearsToAge(1990) === 35); // Assuming current year is 2025\n",
    "console.assert(convertYearsToAge(2000) === 25); // Assuming current year is 2025\n",
    "console.assert(convertYearsToAge(2010) === 15); // Assuming current year is 2025\n",
    "console.log('All tests passed ✅');\n"
   ]
  },
  {
   "cell_type": "markdown",
   "metadata": {},
   "source": [
    "### Task 8: File Type Detector\n",
    "\n",
    "Write a function `getFileType(fileName)` that:\n",
    "\n",
    "- Takes a string `fileName` which includes the file extension.\n",
    "- Returns a string indicating whether it's an image, video, or document file based on the file extension.\n",
    "  - Example: `\"It's image file\"`, `\"It's video file\"`, `\"It's document file\"`.\n",
    "  - If the file extension doesn't match any of the listed types, return `\"It's unknown file\"`.\n",
    "- The function should be case-insensitive for extensions.\n",
    "\n",
    "**Extensions:**\n",
    "\n",
    "- Images: `.jpg`, `.png`, `.gif`, `.bmp`, `.jpeg`\n",
    "- Videos: `.mp4`, `.avi`, `.mov`, `.mkv`, `.flv`\n",
    "- Documents: `.docx`, `.pdf`, `.txt`, `.pptx`, `.xlsx`"
   ]
  },
  {
   "cell_type": "code",
   "execution_count": 37,
   "metadata": {},
   "outputs": [],
   "source": [
    "function getFileType(fileName) {\n",
    "  const imageExtensions = ['jpg', 'png', 'gif', 'bmp', 'jpeg'];\n",
    "  const videoExtensions = ['mp4', 'avi', 'mov', 'mkv', 'flv'];\n",
    "  const documentExtensions = ['docx', 'pdf', 'txt', 'pptx', 'xlsx'];\n",
    "\n",
    "  const extension = fileName.split('.').pop().toLowerCase();\n",
    "\n",
    "  if (imageExtensions.includes(extension)) return \"It's image file\";\n",
    "  if (videoExtensions.includes(extension)) return \"It's video file\";\n",
    "  if (documentExtensions.includes(extension)) return \"It's document file\";\n",
    "  return \"It's unknown file\";\n",
    "}\n"
   ]
  },
  {
   "cell_type": "code",
   "execution_count": 38,
   "metadata": {},
   "outputs": [
    {
     "name": "stdout",
     "output_type": "stream",
     "text": [
      "All tests passed ✅\n"
     ]
    }
   ],
   "source": [
    "console.assert(getFileType('example.jpg') === \"It's image file\");\n",
    "console.assert(getFileType('MOVIE.MP4') === \"It's video file\");\n",
    "console.assert(getFileType('REPORT.DOCX') === \"It's document file\");\n",
    "console.assert(getFileType('UNKNOWN.XYZ') === \"It's unknown file\");\n",
    "console.log('All tests passed ✅');\n"
   ]
  },
  {
   "cell_type": "markdown",
   "metadata": {},
   "source": [
    "### Task 9: Get Time Message\n",
    "\n",
    "Write a function `getTimeMessage(isoString)` that:\n",
    "\n",
    "- Takes an ISO date string (`YYYY-MM-DDTHH:MM:SS`).\n",
    "**Hint:** Use `new Date(isoString)` to create a Date object."
   ]
  },
  {
   "cell_type": "code",
   "execution_count": 39,
   "metadata": {},
   "outputs": [],
   "source": [
    "function getTimeMessage(isoString) {\n",
    "  const date = new Date(isoString);\n",
    "\n",
    "  const days = ['Sunday', 'Monday', 'Tuesday', 'Wednesday', 'Thursday', 'Friday', 'Saturday'];\n",
    "  const hours = date.getHours();\n",
    "  const minutes = date.getMinutes();\n",
    "  const day = days[date.getDay()];\n",
    "\n",
    "  const formattedHours = hours % 12 === 0 ? 12 : hours % 12;\n",
    "  const period = hours >= 12 ? 'PM' : 'AM';\n",
    "  const formattedMinutes = minutes.toString().padStart(2, '0');\n",
    "\n",
    "  let timeOfDay;\n",
    "  if (hours >= 6 && hours < 12) {\n",
    "    timeOfDay = 'morning';\n",
    "  } else if (hours >= 12 && hours < 18) {\n",
    "    timeOfDay = 'afternoon';\n",
    "  } else if (hours >= 18 && hours < 22) {\n",
    "    timeOfDay = 'evening';\n",
    "  } else {\n",
    "    timeOfDay = 'night';\n",
    "  }\n",
    "\n",
    "  return `Today is ${day}. It's ${formattedHours}:${formattedMinutes} ${period}. It's ${timeOfDay}.`;\n",
    "}\n"
   ]
  },
  {
   "cell_type": "code",
   "execution_count": 40,
   "metadata": {},
   "outputs": [
    {
     "name": "stdout",
     "output_type": "stream",
     "text": [
      "All tests passed ✅\n"
     ]
    }
   ],
   "source": [
    "console.assert(\n",
    "  getTimeMessage('2025-01-26T10:45:00') === \"Today is Sunday. It's 10:45 AM. It's morning.\"\n",
    ");\n",
    "console.assert(\n",
    "  getTimeMessage('2025-01-26T15:30:00') === \"Today is Sunday. It's 3:30 PM. It's afternoon.\"\n",
    ");\n",
    "console.assert(\n",
    "  getTimeMessage('2025-01-27T21:15:00') === \"Today is Monday. It's 9:15 PM. It's evening.\"\n",
    ");\n",
    "console.assert(\n",
    "  getTimeMessage('2025-01-27T23:00:00') === \"Today is Monday. It's 11:00 PM. It's night.\"\n",
    ");\n",
    "console.log('All tests passed ✅');\n"
   ]
  },
  {
   "cell_type": "markdown",
   "metadata": {},
   "source": [
    "### Task 10: Years With Sunday\n",
    "\n",
    "Write a function `getYearsWithSundayOnJanuaryFirst()` that:\n",
    "\n",
    "- Takes no parameters.\n",
    "- Returns an array of years between 2000 and 2050 (both inclusive) where January 1st falls on a Sunday."
   ]
  },
  {
   "cell_type": "code",
   "execution_count": 41,
   "metadata": {},
   "outputs": [],
   "source": [
    "function getYearsWithSundayOnJanuaryFirst() {\n",
    "  const sundayYears = [];\n",
    "  for (let year = 2000; year <= 2050; year++) {\n",
    "    const date = new Date(`${year}-01-01`);\n",
    "    if (date.getDay() === 0) sundayYears.push(year);\n",
    "  }\n",
    "  return sundayYears;\n",
    "}\n"
   ]
  },
  {
   "cell_type": "code",
   "execution_count": 42,
   "metadata": {},
   "outputs": [
    {
     "name": "stdout",
     "output_type": "stream",
     "text": [
      "All tests passed ✅\n"
     ]
    }
   ],
   "source": [
    "console.assert(\n",
    "  JSON.stringify(getYearsWithSundayOnJanuaryFirst()) ===\n",
    "    JSON.stringify([2006, 2012, 2017, 2023, 2034, 2040, 2045])\n",
    ");\n",
    "console.log('All tests passed ✅');\n"
   ]
  }
 ],
 "metadata": {
  "kernelspec": {
   "display_name": "Deno",
   "language": "typescript",
   "name": "deno"
  },
  "language_info": {
   "codemirror_mode": "typescript",
   "file_extension": ".ts",
   "mimetype": "text/x.typescript",
   "name": "typescript",
   "nbconvert_exporter": "script",
   "pygments_lexer": "typescript",
   "version": "5.5.2"
  }
 },
 "nbformat": 4,
 "nbformat_minor": 2
}
