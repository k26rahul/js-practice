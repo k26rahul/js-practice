{
 "cells": [
  {
   "cell_type": "code",
   "execution_count": 1,
   "metadata": {},
   "outputs": [
    {
     "name": "stdout",
     "output_type": "stream",
     "text": [
      "5\n",
      "number\n"
     ]
    }
   ],
   "source": [
    "let x = 5;\n",
    "// x = 'rahul';\n",
    "// x = false;\n",
    "// x = new Date();\n",
    "console.log(x);\n",
    "console.log(typeof x);\n"
   ]
  },
  {
   "cell_type": "code",
   "execution_count": 2,
   "metadata": {},
   "outputs": [],
   "source": [
    "// let myName = 'vidu';\n",
    "\n",
    "// console.log(`i am ${myName}`);\n",
    "// console.log(`my salary is ${mySalary}`);\n"
   ]
  },
  {
   "cell_type": "code",
   "execution_count": 3,
   "metadata": {},
   "outputs": [
    {
     "name": "stdout",
     "output_type": "stream",
     "text": [
      "thank u\n"
     ]
    }
   ],
   "source": [
    "let tip = 10;\n",
    "\n",
    "if (tip < 10) {\n",
    "  console.log('give me more tip!');\n",
    "} else {\n",
    "  console.log('thank u');\n",
    "}\n"
   ]
  },
  {
   "cell_type": "code",
   "execution_count": 4,
   "metadata": {},
   "outputs": [],
   "source": [
    "// function hello() {\n",
    "//   var vidu = 'VIDU';\n",
    "//   console.log(vidu);\n",
    "// }\n",
    "\n",
    "// hello();\n",
    "// console.log(vidu);\n"
   ]
  },
  {
   "cell_type": "code",
   "execution_count": 5,
   "metadata": {},
   "outputs": [
    {
     "name": "stdout",
     "output_type": "stream",
     "text": [
      "rahul\n",
      "vidu\n"
     ]
    }
   ],
   "source": [
    "let myName = 'rahul';\n",
    "console.log(myName);\n",
    "\n",
    "{\n",
    "  let myName = 'vidu';\n",
    "  console.log(myName);\n",
    "}\n"
   ]
  },
  {
   "cell_type": "code",
   "execution_count": 6,
   "metadata": {},
   "outputs": [
    {
     "data": {
      "text/plain": [
       "\u001b[33mtrue\u001b[39m"
      ]
     },
     "execution_count": 6,
     "metadata": {},
     "output_type": "execute_result"
    }
   ],
   "source": [
    "let x = 100;\n",
    "let y = 100;\n",
    "\n",
    "x === y;\n"
   ]
  },
  {
   "cell_type": "code",
   "execution_count": 7,
   "metadata": {},
   "outputs": [],
   "source": [
    "let fruits = ['apple', 'banana', 'kiwi'];\n",
    "\n",
    "// for (let i = 0; i < fruits.length; i++) {\n",
    "//   console.log(i, fruits[i]);\n",
    "// }\n",
    "\n",
    "// for (let fruit of fruits) {\n",
    "//   console.log(fruit);\n",
    "// }\n",
    "\n",
    "// function myCallback(fruit, i) {\n",
    "//   console.log(fruit, i);\n",
    "// }\n",
    "\n",
    "// fruits.forEach(myCallback);\n"
   ]
  },
  {
   "cell_type": "code",
   "execution_count": 8,
   "metadata": {},
   "outputs": [
    {
     "name": "stdout",
     "output_type": "stream",
     "text": [
      "eating apple\n",
      "eating banana\n",
      "eating kiwi\n",
      "cooking apple\n",
      "cooking banana\n",
      "cooking kiwi\n"
     ]
    }
   ],
   "source": [
    "function eat(fruit) {\n",
    "  console.log(`eating ${fruit}`);\n",
    "}\n",
    "\n",
    "function cook(fruit) {\n",
    "  console.log(`cooking ${fruit}`);\n",
    "}\n",
    "\n",
    "function myLoop(array, callback) {\n",
    "  for (let elem of array) {\n",
    "    callback(elem);\n",
    "  }\n",
    "}\n",
    "\n",
    "myLoop(fruits, eat);\n",
    "// myLoop(fruits, cook);\n",
    "\n",
    "fruits.forEach(cook);\n"
   ]
  },
  {
   "cell_type": "code",
   "execution_count": 9,
   "metadata": {},
   "outputs": [
    {
     "name": "stdout",
     "output_type": "stream",
     "text": [
      "apple-sweet-sweet\n",
      "APPLE-SWEET-SWEET\n",
      "ap\n",
      "boyle-sweet-sweet\n",
      "p\n",
      "p\n",
      "6\n",
      "12\n"
     ]
    }
   ],
   "source": [
    "let word = 'apple-sweet-sweet';\n",
    "\n",
    "console.log(word.toLowerCase());\n",
    "console.log(word.toUpperCase());\n",
    "console.log(word.slice(0, 2));\n",
    "console.log(word.replace('app', 'boy'));\n",
    "console.log(word.charAt(2));\n",
    "console.log(word[2]);\n",
    "console.log(word.indexOf('sweet'));\n",
    "console.log(word.lastIndexOf('sweet'));\n"
   ]
  },
  {
   "cell_type": "code",
   "execution_count": 10,
   "metadata": {},
   "outputs": [
    {
     "name": "stdout",
     "output_type": "stream",
     "text": [
      "fruit is apple\n",
      "fruit is banana\n",
      "fruit is kiwi\n"
     ]
    }
   ],
   "source": [
    "let fruits = ['apple', 'banana', 'kiwi'];\n",
    "\n",
    "fruits.forEach(fruit => {\n",
    "  console.log(`fruit is ${fruit}`);\n",
    "});\n"
   ]
  },
  {
   "cell_type": "code",
   "execution_count": 11,
   "metadata": {},
   "outputs": [
    {
     "data": {
      "text/plain": [
       "\u001b[33m1\u001b[39m"
      ]
     },
     "execution_count": 11,
     "metadata": {},
     "output_type": "execute_result"
    }
   ],
   "source": [
    "fruits.length - 1 - 1; // -1 -1\n"
   ]
  },
  {
   "cell_type": "code",
   "execution_count": 12,
   "metadata": {},
   "outputs": [
    {
     "name": "stdout",
     "output_type": "stream",
     "text": [
      "kiwi\n",
      "banana\n",
      "apple\n",
      "kiwi\n",
      "banana\n",
      "apple\n"
     ]
    }
   ],
   "source": [
    "function at(array, index) {\n",
    "  if (index > 0) {\n",
    "    return array[index];\n",
    "  }\n",
    "  return array[array.length - 1 + index + 1];\n",
    "}\n",
    "\n",
    "console.log(at(fruits, -1));\n",
    "console.log(at(fruits, -2));\n",
    "console.log(at(fruits, -3));\n",
    "\n",
    "console.log(fruits.at(-1));\n",
    "console.log(fruits.at(-2));\n",
    "console.log(fruits.at(-3));\n"
   ]
  },
  {
   "cell_type": "code",
   "execution_count": 13,
   "metadata": {},
   "outputs": [
    {
     "data": {
      "text/plain": [
       "\u001b[32m\"apple.banana.kiwi\"\u001b[39m"
      ]
     },
     "execution_count": 13,
     "metadata": {},
     "output_type": "execute_result"
    }
   ],
   "source": [
    "fruits.join('.');\n"
   ]
  },
  {
   "cell_type": "code",
   "execution_count": 14,
   "metadata": {},
   "outputs": [
    {
     "name": "stdout",
     "output_type": "stream",
     "text": [
      "kiwi\n",
      "[ \"apple\", \"banana\" ]\n"
     ]
    }
   ],
   "source": [
    "console.log(fruits.pop());\n",
    "console.log(fruits);\n"
   ]
  },
  {
   "cell_type": "code",
   "execution_count": 15,
   "metadata": {},
   "outputs": [
    {
     "name": "stdout",
     "output_type": "stream",
     "text": [
      "3\n",
      "[ \"apple\", \"banana\", \"lemon\" ]\n"
     ]
    }
   ],
   "source": [
    "console.log(fruits.push('lemon'));\n",
    "console.log(fruits);\n"
   ]
  },
  {
   "cell_type": "code",
   "execution_count": 16,
   "metadata": {},
   "outputs": [
    {
     "name": "stdout",
     "output_type": "stream",
     "text": [
      "1,2,3\n",
      "true\n",
      "false\n"
     ]
    }
   ],
   "source": [
    "console.log([1, 2, 3].toString());\n",
    "console.log([1, 2, 3] == '1,2,3');\n",
    "console.log([1, 2, 3] === '1,2,3');\n"
   ]
  },
  {
   "cell_type": "code",
   "execution_count": 17,
   "metadata": {},
   "outputs": [
    {
     "name": "stdout",
     "output_type": "stream",
     "text": [
      "[ \"rahul\", \"vidu\", \"paru\" ]\n",
      "[ \"maa\", \"vishnu\", \"papa\" ]\n"
     ]
    }
   ],
   "source": [
    "let grp1 = ['rahul', 'vidu', 'paru'];\n",
    "let grp2 = ['maa', 'vishnu', 'papa'];\n",
    "\n",
    "let all = grp1.concat(grp2);\n",
    "\n",
    "console.log(grp1);\n",
    "console.log(grp2);\n"
   ]
  },
  {
   "cell_type": "code",
   "execution_count": 18,
   "metadata": {},
   "outputs": [],
   "source": [
    "// map, filter, reduce\n"
   ]
  },
  {
   "cell_type": "code",
   "execution_count": 19,
   "metadata": {},
   "outputs": [
    {
     "name": "stdout",
     "output_type": "stream",
     "text": [
      "[ 4, 9, 16, 25, 36 ]\n"
     ]
    }
   ],
   "source": [
    "let arr = [2, 3, 4, 5, 6];\n",
    "\n",
    "let newArr = [];\n",
    "\n",
    "for (let num of arr) {\n",
    "  newArr.push(num ** 2);\n",
    "}\n",
    "\n",
    "console.log(newArr);\n"
   ]
  },
  {
   "cell_type": "code",
   "execution_count": 20,
   "metadata": {},
   "outputs": [],
   "source": [
    "function square(num) {\n",
    "  return num ** 2;\n",
    "}\n"
   ]
  },
  {
   "cell_type": "code",
   "execution_count": 21,
   "metadata": {},
   "outputs": [
    {
     "name": "stdout",
     "output_type": "stream",
     "text": [
      "[]\n"
     ]
    }
   ],
   "source": [
    "function square(num) {\n",
    "  // console.log('doing my work');\n",
    "  return num ** 2;\n",
    "}\n",
    "\n",
    "let arr = [2, 3, 4, 5, 6];\n",
    "\n",
    "let newArr = [];\n",
    "\n",
    "for (let num of arr) {\n",
    "  square(num);\n",
    "}\n",
    "\n",
    "console.log(newArr);\n"
   ]
  },
  {
   "cell_type": "code",
   "execution_count": 22,
   "metadata": {},
   "outputs": [
    {
     "data": {
      "text/plain": [
       "[ \u001b[33m4\u001b[39m, \u001b[33m9\u001b[39m, \u001b[33m16\u001b[39m, \u001b[33m25\u001b[39m, \u001b[33m36\u001b[39m ]"
      ]
     },
     "execution_count": 22,
     "metadata": {},
     "output_type": "execute_result"
    }
   ],
   "source": [
    "let newArr = arr.map(num => num ** 2);\n",
    "\n",
    "newArr;\n"
   ]
  },
  {
   "cell_type": "code",
   "execution_count": 23,
   "metadata": {},
   "outputs": [
    {
     "name": "stdout",
     "output_type": "stream",
     "text": [
      "[ 6, 8, 10 ]\n"
     ]
    }
   ],
   "source": [
    "// predicate\n",
    "function isEven(num) {\n",
    "  return num % 2 == 0;\n",
    "}\n",
    "\n",
    "let arr = [6, 7, 8, 9, 10];\n",
    "\n",
    "let newArr = [];\n",
    "\n",
    "for (let num of arr) {\n",
    "  if (isEven(num)) {\n",
    "    newArr.push(num);\n",
    "  }\n",
    "}\n",
    "\n",
    "console.log(newArr);\n"
   ]
  },
  {
   "cell_type": "code",
   "execution_count": 24,
   "metadata": {},
   "outputs": [
    {
     "name": "stdout",
     "output_type": "stream",
     "text": [
      "[ 6, 7, 8, 9 ]\n"
     ]
    }
   ],
   "source": [
    "// arr.filter(isEven);\n",
    "\n",
    "let newArr = arr.filter(num => num % 5 != 0);\n",
    "\n",
    "console.log(newArr);\n"
   ]
  },
  {
   "cell_type": "code",
   "execution_count": 25,
   "metadata": {},
   "outputs": [
    {
     "data": {
      "text/plain": [
       "\u001b[33m165\u001b[39m"
      ]
     },
     "execution_count": 25,
     "metadata": {},
     "output_type": "execute_result"
    }
   ],
   "source": [
    "let arr = [10, 11, 12, 15];\n",
    "\n",
    "let accumulator = 1;\n",
    "\n",
    "for (let x of arr) {\n",
    "  if (x % 2 != 0) {\n",
    "    accumulator *= x;\n",
    "  }\n",
    "}\n",
    "\n",
    "accumulator;\n"
   ]
  },
  {
   "cell_type": "code",
   "execution_count": 26,
   "metadata": {},
   "outputs": [
    {
     "data": {
      "text/plain": [
       "\u001b[33m48\u001b[39m"
      ]
     },
     "execution_count": 26,
     "metadata": {},
     "output_type": "execute_result"
    }
   ],
   "source": [
    "let arr = [10, 11, 12, 15];\n",
    "\n",
    "function reducer(accumulator, num) {\n",
    "  accumulator += num;\n",
    "  return accumulator;\n",
    "}\n",
    "\n",
    "accumulator = 0;\n",
    "\n",
    "for (let num of arr) {\n",
    "  accumulator = reducer(accumulator, num);\n",
    "}\n",
    "\n",
    "accumulator;\n"
   ]
  },
  {
   "cell_type": "code",
   "execution_count": 27,
   "metadata": {},
   "outputs": [
    {
     "data": {
      "text/plain": [
       "\u001b[33m48\u001b[39m"
      ]
     },
     "execution_count": 27,
     "metadata": {},
     "output_type": "execute_result"
    }
   ],
   "source": [
    "arr.reduce(reducer, 0); // reducer, acc's init value\n"
   ]
  },
  {
   "cell_type": "code",
   "execution_count": 28,
   "metadata": {},
   "outputs": [
    {
     "data": {
      "text/plain": [
       "\u001b[33m48\u001b[39m"
      ]
     },
     "execution_count": 28,
     "metadata": {},
     "output_type": "execute_result"
    }
   ],
   "source": [
    "let acc = arr.reduce((acc, num) => {\n",
    "  acc += num;\n",
    "  return acc;\n",
    "}, 0);\n",
    "\n",
    "acc;\n"
   ]
  },
  {
   "cell_type": "code",
   "execution_count": 53,
   "metadata": {},
   "outputs": [
    {
     "name": "stdout",
     "output_type": "stream",
     "text": [
      "0 apple\n",
      "1 apple\n",
      "2 190\n",
      "3 false\n",
      "4 [ 9, 10 ]\n"
     ]
    }
   ],
   "source": [
    "let arr = ['apple', 'apple', 190, false, [9, 10]];\n",
    "\n",
    "// for (let i = 0; i < arr.length; i++) {\n",
    "//   console.log(i, arr[i]);\n",
    "// }\n",
    "\n",
    "// for (let elem of arr) {\n",
    "//   console.log(elem);\n",
    "// }\n",
    "\n",
    "for (let i in arr) {\n",
    "  console.log(i, arr[i]);\n",
    "}\n"
   ]
  },
  {
   "cell_type": "code",
   "execution_count": 64,
   "metadata": {},
   "outputs": [
    {
     "name": "stdout",
     "output_type": "stream",
     "text": [
      "4\n",
      "[ \"apple\", \"kiwi\", \"banana\", \"orange\" ]\n"
     ]
    }
   ],
   "source": [
    "let arr = ['apple', 'kiwi', 'banana'];\n",
    "\n",
    "console.log(arr.push('orange')); // length after pushing\n",
    "console.log(arr);\n"
   ]
  },
  {
   "cell_type": "code",
   "execution_count": 57,
   "metadata": {},
   "outputs": [
    {
     "name": "stdout",
     "output_type": "stream",
     "text": [
      "banana\n",
      "[ \"apple\", \"kiwi\" ]\n"
     ]
    }
   ],
   "source": [
    "let arr = ['apple', 'kiwi', 'banana'];\n",
    "\n",
    "console.log(arr.pop()); // removes and return the last elem\n",
    "console.log(arr);\n"
   ]
  },
  {
   "cell_type": "code",
   "execution_count": 62,
   "metadata": {},
   "outputs": [
    {
     "name": "stdout",
     "output_type": "stream",
     "text": [
      "[ \"kiwi\", \"banana\", \"orange\" ]\n",
      "[ \"apple\", \"kiwi\" ]\n"
     ]
    }
   ],
   "source": [
    "let arr = ['apple', 'kiwi', 'banana', 'orange'];\n",
    "\n",
    "console.log(arr.slice(1)); // start index\n",
    "console.log(arr.slice(0, 2)); // start, end (not included) index\n"
   ]
  },
  {
   "cell_type": "code",
   "execution_count": 65,
   "metadata": {},
   "outputs": [
    {
     "name": "stdout",
     "output_type": "stream",
     "text": [
      "[ \"orange\", \"banana\", \"kiwi\", \"apple\" ]\n",
      "[ \"orange\", \"banana\", \"kiwi\", \"apple\" ]\n"
     ]
    }
   ],
   "source": [
    "let arr = ['apple', 'kiwi', 'banana', 'orange'];\n",
    "\n",
    "console.log(arr.reverse());\n",
    "console.log(arr);\n"
   ]
  },
  {
   "cell_type": "code",
   "execution_count": 71,
   "metadata": {},
   "outputs": [
    {
     "name": "stdout",
     "output_type": "stream",
     "text": [
      "0\n",
      "5\n"
     ]
    }
   ],
   "source": [
    "let arr = ['apple', 'kiwi', 'banana', 'apple', 'orange', 'apple'];\n",
    "\n",
    "console.log(arr.indexOf('apple'));\n",
    "console.log(arr.lastIndexOf('apple'));\n"
   ]
  },
  {
   "cell_type": "code",
   "execution_count": 90,
   "metadata": {},
   "outputs": [
    {
     "name": "stdout",
     "output_type": "stream",
     "text": [
      "apple\n",
      "[ \"apple\", \"lemon\" ]\n"
     ]
    }
   ],
   "source": [
    "let arr = ['apple', 'kiwi', 'banana', 'lemon'];\n",
    "\n",
    "console.log(arr.find(elem => elem.length == 5));\n",
    "console.log(arr.filter(elem => elem.length == 5));\n"
   ]
  },
  {
   "cell_type": "code",
   "execution_count": 99,
   "metadata": {},
   "outputs": [
    {
     "name": "stdout",
     "output_type": "stream",
     "text": [
      "20 1\n",
      "30 2\n",
      "[ 10, 20, 30 ]\n",
      "[ 10, 19, 29 ]\n"
     ]
    }
   ],
   "source": [
    "let arr = [10, 20, 30]; // [9, 19, 29]\n",
    "\n",
    "let newArr = arr.map((num, i) => {\n",
    "  if (num >= 20) {\n",
    "    console.log(num, i);\n",
    "    return num - 1;\n",
    "  }\n",
    "  return num;\n",
    "});\n",
    "\n",
    "console.log(arr);\n",
    "console.log(newArr);\n"
   ]
  },
  {
   "cell_type": "code",
   "execution_count": 105,
   "metadata": {},
   "outputs": [
    {
     "name": "stdout",
     "output_type": "stream",
     "text": [
      "[]\n",
      "[ 9 ]\n",
      "[ 9, 16 ]\n"
     ]
    },
    {
     "data": {
      "text/plain": [
       "[ \u001b[33m9\u001b[39m, \u001b[33m16\u001b[39m, \u001b[33m25\u001b[39m ]"
      ]
     },
     "execution_count": 105,
     "metadata": {},
     "output_type": "execute_result"
    }
   ],
   "source": [
    "arr = [3, 4, 5];\n",
    "\n",
    "// reducer: (acc, num) => {}\n",
    "arr.reduce((acc, num) => {\n",
    "  console.log(acc);\n",
    "\n",
    "  acc.push(num ** 2);\n",
    "\n",
    "  return acc;\n",
    "}, []);\n"
   ]
  },
  {
   "cell_type": "code",
   "execution_count": 106,
   "metadata": {},
   "outputs": [
    {
     "name": "stdout",
     "output_type": "stream",
     "text": [
      "\n",
      "rahul and \n",
      "rahul and vidu and \n",
      "rahul and vidu and cmd and \n"
     ]
    },
    {
     "data": {
      "text/plain": [
       "\u001b[32m\"rahul and vidu and cmd and muskan and \"\u001b[39m"
      ]
     },
     "execution_count": 106,
     "metadata": {},
     "output_type": "execute_result"
    }
   ],
   "source": [
    "arr = ['rahul', 'vidu', 'cmd', 'muskan'];\n",
    "\n",
    "arr.reduce((acc, elem) => {\n",
    "  console.log(acc);\n",
    "\n",
    "  acc += `${elem} and `;\n",
    "  return acc;\n",
    "}, '');\n"
   ]
  },
  {
   "cell_type": "code",
   "execution_count": 107,
   "metadata": {},
   "outputs": [
    {
     "data": {
      "text/plain": [
       "\u001b[32m\"rahul and vidu and cmd and muskan\"\u001b[39m"
      ]
     },
     "execution_count": 107,
     "metadata": {},
     "output_type": "execute_result"
    }
   ],
   "source": [
    "arr.join(' and ');\n"
   ]
  },
  {
   "cell_type": "code",
   "execution_count": 110,
   "metadata": {},
   "outputs": [
    {
     "data": {
      "text/plain": [
       "{ age: \u001b[33m20\u001b[39m, salary: \u001b[33m10000\u001b[39m }"
      ]
     },
     "execution_count": 110,
     "metadata": {},
     "output_type": "execute_result"
    }
   ],
   "source": [
    "let myObj = { age: 20, salary: 10000 };\n",
    "\n",
    "myObj;\n"
   ]
  },
  {
   "cell_type": "code",
   "execution_count": 124,
   "metadata": {},
   "outputs": [
    {
     "name": "stdout",
     "output_type": "stream",
     "text": [
      "[ \"apple\", \"apple\", \"banana\" ]\n",
      "Set(2) { \"apple\", \"banana\" }\n",
      "2\n",
      "false\n",
      "Set(3) { \"apple\", \"banana\", \"kiwi\" }\n",
      "Set(3) { \"apple\", \"banana\", \"kiwi\" }\n"
     ]
    }
   ],
   "source": [
    "arr = ['apple', 'apple', 'banana'];\n",
    "\n",
    "console.log(arr);\n",
    "\n",
    "let mySet = new Set(arr); // converts the arr into set\n",
    "\n",
    "console.log(mySet);\n",
    "console.log(mySet.size);\n",
    "console.log(mySet.has('kiwi'));\n",
    "console.log(mySet.add('kiwi')); // adds `kiwi` to set, return set\n",
    "console.log(mySet);\n"
   ]
  },
  {
   "cell_type": "code",
   "execution_count": 130,
   "metadata": {},
   "outputs": [
    {
     "name": "stdout",
     "output_type": "stream",
     "text": [
      "{ age: 20, salary: 10000, home: \"some home\" }\n"
     ]
    }
   ],
   "source": [
    "let myObj = {};\n",
    "\n",
    "myObj['age'] = 20;\n",
    "myObj['salary'] = 10000;\n",
    "myObj['home'] = 'some home';\n",
    "\n",
    "console.log(myObj);\n"
   ]
  },
  {
   "cell_type": "code",
   "execution_count": 131,
   "metadata": {},
   "outputs": [
    {
     "name": "stdout",
     "output_type": "stream",
     "text": [
      "Map(2) { \"age\" => 20, \"salary\" => 10000 }\n"
     ]
    }
   ],
   "source": [
    "let myMap = new Map();\n",
    "\n",
    "myMap.set('age', 20);\n",
    "myMap.set('salary', 10000);\n",
    "\n",
    "console.log(myMap);\n"
   ]
  },
  {
   "cell_type": "code",
   "execution_count": 139,
   "metadata": {},
   "outputs": [
    {
     "name": "stdout",
     "output_type": "stream",
     "text": [
      "{ fruits: \"eatable stuff\", vehicles: \"drive-able stuff\" }\n",
      "undefined\n",
      "eatable stuff\n"
     ]
    }
   ],
   "source": [
    "let fruits = ['apple', 'kiwi'];\n",
    "let vehicles = ['car', 'bike'];\n",
    "\n",
    "let myObj = {\n",
    "  fruits: 'eatable stuff',\n",
    "  vehicles: 'drive-able stuff',\n",
    "};\n",
    "\n",
    "console.log(myObj);\n",
    "console.log(myObj[fruits]);\n",
    "console.log(myObj['fruits']);\n"
   ]
  },
  {
   "cell_type": "code",
   "execution_count": 144,
   "metadata": {},
   "outputs": [
    {
     "name": "stdout",
     "output_type": "stream",
     "text": [
      "eatable stuff\n",
      "fake fruits, give me an array\n"
     ]
    }
   ],
   "source": [
    "let fruits = ['apple', 'kiwi'];\n",
    "let vehicles = ['car', 'bike'];\n",
    "\n",
    "let myMap = new Map();\n",
    "\n",
    "myMap.set(fruits, 'eatable stuff');\n",
    "myMap.set('fruits', 'fake fruits, give me an array');\n",
    "myMap.set(vehicles, 'drive-able stuff');\n",
    "\n",
    "console.log(myMap.get(fruits));\n",
    "console.log(myMap.get('fruits'));\n"
   ]
  },
  {
   "cell_type": "code",
   "execution_count": 150,
   "metadata": {},
   "outputs": [
    {
     "name": "stdout",
     "output_type": "stream",
     "text": [
      "rahul\n",
      "22\n",
      "hbh\n"
     ]
    }
   ],
   "source": [
    "let data = ['rahul', 22, 'hbh'];\n",
    "let [name, age, place] = data;\n",
    "\n",
    "console.log(name);\n",
    "console.log(age);\n",
    "console.log(place);\n"
   ]
  },
  {
   "cell_type": "code",
   "execution_count": 3,
   "metadata": {},
   "outputs": [
    {
     "name": "stdout",
     "output_type": "stream",
     "text": [
      "rahul 20 hbh\n"
     ]
    }
   ],
   "source": [
    "let [name, age, place] = ['rahul', 20, 'hbh'];\n",
    "\n",
    "console.log(name, age, place);\n"
   ]
  },
  {
   "cell_type": "code",
   "execution_count": 13,
   "metadata": {},
   "outputs": [
    {
     "name": "stdout",
     "output_type": "stream",
     "text": [
      "rahul [ \"hbh\", \"bs\", 200 ]\n"
     ]
    }
   ],
   "source": [
    "let data = ['rahul', 20, 'hbh', 'bs', 200];\n",
    "\n",
    "let [name, age, ...extra] = data;\n",
    "\n",
    "console.log(name, extra);\n"
   ]
  },
  {
   "cell_type": "code",
   "execution_count": 22,
   "metadata": {},
   "outputs": [
    {
     "name": "stdout",
     "output_type": "stream",
     "text": [
      "u are rahul, and 20 years old, from hbh, and u earn 10000\n",
      "u are cmd, and 22 years old, from hbh, and u earn 20000\n"
     ]
    }
   ],
   "source": [
    "let p1 = ['rahul', 20, 'hbh'];\n",
    "let p2 = ['cmd', 22, 'hbh'];\n",
    "\n",
    "function greet(salary, name, age) {\n",
    "  console.log(`u are ${name}, and ${age} years old, from ${place}, and u earn ${salary}`);\n",
    "}\n",
    "\n",
    "greet(10000, ...p1);\n",
    "greet(20000, ...p2);\n"
   ]
  },
  {
   "cell_type": "code",
   "execution_count": null,
   "metadata": {},
   "outputs": [
    {
     "name": "stdout",
     "output_type": "stream",
     "text": [
      "rahul\n",
      "[ 20 ]\n"
     ]
    }
   ],
   "source": [
    "data = ['rahul', 20, 'hbh'];\n",
    "\n",
    "let [name, ...moreInfo] = data;\n",
    "\n",
    "console.log(name);\n",
    "console.log(moreInfo);\n"
   ]
  },
  {
   "cell_type": "code",
   "execution_count": 36,
   "metadata": {},
   "outputs": [
    {
     "name": "stdout",
     "output_type": "stream",
     "text": [
      "u are rahul, 20 years old, from hbh\n"
     ]
    }
   ],
   "source": [
    "data = ['rahul', 20, 'hbh', 'bs', 2000];\n",
    "\n",
    "function greet(name, age, place) {\n",
    "  console.log(`u are ${name}, ${age} years old, from ${place}`);\n",
    "}\n",
    "\n",
    "greet(...data, 2000);\n"
   ]
  },
  {
   "cell_type": "code",
   "execution_count": 43,
   "metadata": {},
   "outputs": [
    {
     "name": "stdout",
     "output_type": "stream",
     "text": [
      "hbh { name: \"rahul\", age: 20 }\n"
     ]
    }
   ],
   "source": [
    "let obj = {\n",
    "  name: 'rahul',\n",
    "  age: 20,\n",
    "  place: 'hbh',\n",
    "};\n",
    "\n",
    "let { place, ...extra } = obj;\n",
    "\n",
    "console.log(place, extra);\n"
   ]
  },
  {
   "cell_type": "code",
   "execution_count": 49,
   "metadata": {},
   "outputs": [
    {
     "name": "stdout",
     "output_type": "stream",
     "text": [
      "u are rahul, from hbh\n"
     ]
    }
   ],
   "source": [
    "let obj = {\n",
    "  name: 'rahul',\n",
    "  age: 20,\n",
    "  place: 'hbh',\n",
    "};\n",
    "\n",
    "function greet({ name, place }) {\n",
    "  console.log(`u are ${name}, from ${place}`);\n",
    "}\n",
    "\n",
    "greet(obj);\n"
   ]
  },
  {
   "cell_type": "code",
   "execution_count": 56,
   "metadata": {},
   "outputs": [
    {
     "name": "stdout",
     "output_type": "stream",
     "text": [
      "{ name: \"rahul\", age: 20, place: \"hbh\", salary: 10000 }\n"
     ]
    }
   ],
   "source": [
    "let obj = {\n",
    "  name: 'rahul',\n",
    "  age: 20,\n",
    "  place: 'hbh',\n",
    "};\n",
    "\n",
    "let newObj = {\n",
    "  name: 'cmd',\n",
    "  ...obj,\n",
    "  salary: 10000,\n",
    "};\n",
    "\n",
    "console.log(newObj);\n"
   ]
  },
  {
   "cell_type": "code",
   "execution_count": 86,
   "metadata": {},
   "outputs": [
    {
     "name": "stdout",
     "output_type": "stream",
     "text": [
      "myGen is running\n",
      "myGen is running 2\n",
      "{ value: 9000, done: false }\n",
      "after 1st yield\n",
      "{ value: 9000, done: false }\n"
     ]
    }
   ],
   "source": [
    "function* myGen(salary) {\n",
    "  console.log('myGen is running');\n",
    "  console.log('myGen is running 2');\n",
    "  yield salary * 1000;\n",
    "\n",
    "  console.log('after 1st yield');\n",
    "  yield salary * 1000;\n",
    "}\n",
    "\n",
    "let gen1 = myGen(9);\n",
    "console.log(gen1.next());\n",
    "console.log(gen1.next());\n"
   ]
  },
  {
   "cell_type": "code",
   "execution_count": 4,
   "metadata": {},
   "outputs": [
    {
     "name": "stdout",
     "output_type": "stream",
     "text": [
      "0\n",
      "1\n",
      "2\n",
      "3\n",
      "4\n"
     ]
    }
   ],
   "source": [
    "// for (const i = 1; i <= 5; i++) {\n",
    "//   console.log(i);\n",
    "// }\n",
    "\n",
    "for (const i in [1, 2, 3, 4, 5]) {\n",
    "  console.log(i);\n",
    "}\n"
   ]
  },
  {
   "cell_type": "code",
   "execution_count": 24,
   "metadata": {},
   "outputs": [
    {
     "name": "stdout",
     "output_type": "stream",
     "text": [
      "true\n",
      "true\n"
     ]
    }
   ],
   "source": [
    "// console.log(Boolean(1));\n",
    "// console.log(Boolean(0));\n",
    "// console.log(Boolean(-2));\n",
    "// console.log(Boolean(15));\n",
    "\n",
    "// console.log(Boolean('rahul'));\n",
    "// console.log(Boolean(''));\n",
    "\n",
    "console.log(Boolean([1, 2, 3]));\n",
    "console.log(Boolean([]));\n"
   ]
  },
  {
   "cell_type": "code",
   "execution_count": 27,
   "metadata": {},
   "outputs": [
    {
     "name": "stdout",
     "output_type": "stream",
     "text": [
      "3\n"
     ]
    }
   ],
   "source": [
    "let a = [2, 3, 4];\n",
    "let b = [2, 2, ...a, 5];\n",
    "let c = b.find(x => x % 2);\n",
    "\n",
    "console.log(c);\n"
   ]
  },
  {
   "cell_type": "code",
   "execution_count": 9,
   "metadata": {},
   "outputs": [
    {
     "name": "stdout",
     "output_type": "stream",
     "text": [
      "20 hbh rahul\n",
      "25 vidu\n",
      "{ first_name: \"rahul\", age: 20, place: \"hbh\" }\n",
      "{ first_name: \"vidu\", age: 25, place: \"hbh\" }\n"
     ]
    }
   ],
   "source": [
    "let a = {\n",
    "  first_name: 'rahul',\n",
    "  age: 20,\n",
    "  place: 'hbh',\n",
    "};\n",
    "\n",
    "let b = {\n",
    "  first_name: 'vidu',\n",
    "  age: 25,\n",
    "  place: 'hbh',\n",
    "};\n",
    "\n",
    "let { age: rahulAge, place: rahulPlace, first_name } = a;\n",
    "let { age: viduAge, first_name: viduFirstName } = b;\n",
    "\n",
    "console.log(rahulAge, rahulPlace, first_name);\n",
    "console.log(viduAge, viduFirstName);\n",
    "\n",
    "console.log(a);\n",
    "console.log(b);\n"
   ]
  },
  {
   "cell_type": "code",
   "execution_count": 18,
   "metadata": {},
   "outputs": [
    {
     "name": "stdout",
     "output_type": "stream",
     "text": [
      "20 25\n",
      "{ first_name: \"vidu\", age: 25, place: \"hbh\" }\n",
      "25\n"
     ]
    }
   ],
   "source": [
    "let a = {\n",
    "  first_name: 'rahul',\n",
    "  age: 20,\n",
    "  place: 'hbh',\n",
    "};\n",
    "\n",
    "let b = {\n",
    "  first_name: 'vidu',\n",
    "  age: 25,\n",
    "  place: 'hbh',\n",
    "};\n",
    "\n",
    "// let rahulAge = a.age;\n",
    "// let viduAge = b.age;\n",
    "\n",
    "let { age } = a;\n",
    "let { age: howOld } = b;\n",
    "\n",
    "console.log(age, howOld);\n",
    "console.log(b);\n",
    "console.log(b.age);\n"
   ]
  },
  {
   "cell_type": "code",
   "execution_count": 25,
   "metadata": {},
   "outputs": [
    {
     "data": {
      "text/plain": [
       "\u001b[32m\"\"\u001b[39m"
      ]
     },
     "execution_count": 25,
     "metadata": {},
     "output_type": "execute_result"
    }
   ],
   "source": [
    "let name = String('');\n",
    "\n",
    "name;\n"
   ]
  },
  {
   "cell_type": "code",
   "execution_count": 37,
   "metadata": {},
   "outputs": [
    {
     "name": "stdout",
     "output_type": "stream",
     "text": [
      "[\n",
      "  \"string\",  \"number\",\n",
      "  \"boolean\", \"function\",\n",
      "  \"object\",  \"object\",\n",
      "  \"object\"\n",
      "]\n"
     ]
    }
   ],
   "source": [
    "let arr = ['rahul', 10, false, x => x ** 2, new Set([2, 3, 3]), new Date(), [90, 100, 110]];\n",
    "\n",
    "let result = Array();\n",
    "\n",
    "for (let elem of arr) {\n",
    "  result.push(typeof elem);\n",
    "}\n",
    "\n",
    "console.log(result);\n"
   ]
  },
  {
   "cell_type": "code",
   "execution_count": 50,
   "metadata": {},
   "outputs": [
    {
     "name": "stdout",
     "output_type": "stream",
     "text": [
      "25\n",
      "25\n",
      "25\n",
      "NaN\n"
     ]
    }
   ],
   "source": [
    "// console.log('rahul' * 'rahul');\n",
    "// console.log([] * []);\n",
    "\n",
    "console.log('5' * 5);\n",
    "console.log(5 * '5');\n",
    "console.log('5' * '5');\n",
    "console.log('5abx' * '5gs');\n"
   ]
  },
  {
   "cell_type": "code",
   "execution_count": 54,
   "metadata": {},
   "outputs": [
    {
     "name": "stdout",
     "output_type": "stream",
     "text": [
      "0\n",
      "NaN\n"
     ]
    }
   ],
   "source": [
    "console.log(Number([]));\n",
    "console.log(Number([19, 20]));\n"
   ]
  },
  {
   "cell_type": "code",
   "execution_count": 55,
   "metadata": {},
   "outputs": [
    {
     "name": "stdout",
     "output_type": "stream",
     "text": [
      "0\n",
      "NaN\n"
     ]
    }
   ],
   "source": [
    "console.log([] * []);\n",
    "console.log([190, 2000] * []);\n"
   ]
  },
  {
   "cell_type": "code",
   "execution_count": 44,
   "metadata": {},
   "outputs": [
    {
     "name": "stdout",
     "output_type": "stream",
     "text": [
      "undefined\n",
      "object\n",
      "number\n"
     ]
    }
   ],
   "source": [
    "console.log(typeof undefined);\n",
    "console.log(typeof null);\n",
    "console.log(typeof NaN);\n"
   ]
  },
  {
   "cell_type": "code",
   "execution_count": 58,
   "metadata": {},
   "outputs": [
    {
     "data": {
      "text/plain": [
       "\u001b[33m1739943469412\u001b[39m"
      ]
     },
     "execution_count": 58,
     "metadata": {},
     "output_type": "execute_result"
    }
   ],
   "source": [
    "Number(new Date());\n"
   ]
  },
  {
   "cell_type": "code",
   "execution_count": 57,
   "metadata": {},
   "outputs": [
    {
     "name": "stdout",
     "output_type": "stream",
     "text": [
      "rahul\n",
      "NaN\n",
      "\n",
      "10\n",
      "100\n",
      "\n",
      "false\n",
      "0\n",
      "\n",
      "[Function (anonymous)]\n",
      "NaN\n",
      "\n",
      "Set(2) { 2, 3 }\n",
      "NaN\n",
      "\n",
      "2025-02-19T05:37:18.951Z\n",
      "3.0274031707486325e+24\n",
      "\n",
      "[ 90, 100, 110 ]\n",
      "NaN\n",
      "\n"
     ]
    }
   ],
   "source": [
    "let arr = ['rahul', 10, false, x => x ** 2, new Set([2, 3, 3]), new Date(), [90, 100, 110]];\n",
    "\n",
    "for (let elem of arr) {\n",
    "  console.log(elem);\n",
    "  console.log(elem * elem);\n",
    "  console.log();\n",
    "}\n"
   ]
  },
  {
   "cell_type": "code",
   "execution_count": 61,
   "metadata": {},
   "outputs": [
    {
     "name": "stdout",
     "output_type": "stream",
     "text": [
      "25\n",
      "125\n"
     ]
    }
   ],
   "source": [
    "let square = x => x ** 2;\n",
    "let power = (x, y) => x ** y;\n",
    "\n",
    "console.log(square(5));\n",
    "console.log(power(5, 3));\n"
   ]
  },
  {
   "cell_type": "code",
   "execution_count": 68,
   "metadata": {},
   "outputs": [
    {
     "name": "stdout",
     "output_type": "stream",
     "text": [
      "20\n",
      "10000\n"
     ]
    }
   ],
   "source": [
    "let a = {\n",
    "  first_name: 'rahul',\n",
    "  age: 20,\n",
    "  place: 'hbh',\n",
    "  salary: 10000,\n",
    "};\n",
    "\n",
    "let { age: howOld, salary = 999 } = a;\n",
    "\n",
    "console.log(howOld);\n",
    "console.log(salary);\n"
   ]
  },
  {
   "cell_type": "code",
   "execution_count": 1,
   "metadata": {},
   "outputs": [
    {
     "data": {
      "text/plain": [
       "\u001b[32m\"\"\u001b[39m"
      ]
     },
     "execution_count": 1,
     "metadata": {},
     "output_type": "execute_result"
    }
   ],
   "source": [
    "name;\n"
   ]
  },
  {
   "cell_type": "code",
   "execution_count": 10,
   "metadata": {},
   "outputs": [
    {
     "name": "stdout",
     "output_type": "stream",
     "text": [
      "{ name: \"apple\", color: \"red\" }\n",
      "{ name: \"apple\", color: \"red\", shape: \"rectangular\" }\n",
      "apple is red and rectangular\n"
     ]
    }
   ],
   "source": [
    "let fruit = {\n",
    "  name: 'apple',\n",
    "  color: 'red',\n",
    "};\n",
    "\n",
    "let desc = ({ name, color: myCol, shape = 'spherical' }) => {\n",
    "  return `${name} is ${myCol} and ${shape}`;\n",
    "};\n",
    "\n",
    "let newFruit = {\n",
    "  ...fruit,\n",
    "  shape: 'rectangular',\n",
    "};\n",
    "\n",
    "console.log(fruit);\n",
    "console.log(newFruit);\n",
    "\n",
    "console.log(desc(newFruit));\n"
   ]
  },
  {
   "cell_type": "code",
   "execution_count": 15,
   "metadata": {},
   "outputs": [
    {
     "name": "stdout",
     "output_type": "stream",
     "text": [
      "piranha is sleeping\n",
      "cat is eating\n"
     ]
    }
   ],
   "source": [
    "class Animal {\n",
    "  constructor(name, weight, color) {\n",
    "    this.name = name;\n",
    "    this.weight = weight;\n",
    "    this.color = color;\n",
    "  }\n",
    "\n",
    "  eat() {\n",
    "    console.log(`${this.name} is eating`);\n",
    "  }\n",
    "\n",
    "  sleep() {\n",
    "    console.log(`${this.name} is sleeping`);\n",
    "  }\n",
    "}\n",
    "\n",
    "let dog = new Animal('dog', 10, 'brown');\n",
    "let cat = new Animal('cat', 5, 'black');\n",
    "let parrot = new Animal('parrot', 0.1, 'green');\n",
    "let piranha = new Animal('piranha', 0.5, 'gray');\n",
    "\n",
    "piranha.sleep();\n",
    "cat.eat();\n"
   ]
  },
  {
   "cell_type": "code",
   "execution_count": 20,
   "metadata": {},
   "outputs": [
    {
     "name": "stdout",
     "output_type": "stream",
     "text": [
      "dog gave birth\n",
      "parrot is laying eggs\n"
     ]
    }
   ],
   "source": [
    "class Mammal {\n",
    "  constructor(name, weight, color, favFood) {\n",
    "    this.name = name;\n",
    "    this.weight = weight;\n",
    "    this.color = color;\n",
    "    this.favFood = favFood;\n",
    "  }\n",
    "\n",
    "  eat() {\n",
    "    console.log(`${this.name} is eating`);\n",
    "  }\n",
    "\n",
    "  sleep() {\n",
    "    console.log(`${this.name} is sleeping`);\n",
    "  }\n",
    "\n",
    "  giveBirth() {\n",
    "    console.log(`${this.name} gave birth`);\n",
    "  }\n",
    "}\n",
    "\n",
    "class Bird {\n",
    "  constructor(name, weight, color, beakColor, flyHeight) {\n",
    "    this.name = name;\n",
    "    this.weight = weight;\n",
    "  }\n",
    "\n",
    "  eat() {}\n",
    "  sleep() {}\n",
    "  fly() {\n",
    "    console.log(`${this.name} is flying`);\n",
    "  }\n",
    "  layEggs() {\n",
    "    console.log(`${this.name} is laying eggs`);\n",
    "  }\n",
    "}\n",
    "\n",
    "let dog = new Mammal('dog', 10, 'black', 'biscuit');\n",
    "let parrot = new Bird('parrot', 0.1, 'green', 'red', 100);\n",
    "\n",
    "dog.giveBirth();\n",
    "parrot.layEggs();\n"
   ]
  },
  {
   "cell_type": "code",
   "execution_count": 18,
   "metadata": {},
   "outputs": [
    {
     "name": "stdout",
     "output_type": "stream",
     "text": [
      "Mammal { name: \"dog\", weight: 10, color: \"black\", favFood: \"biscuit\" }\n",
      "Bird {\n",
      "  name: \"parrot\",\n",
      "  weight: 0.1,\n",
      "  color: \"green\",\n",
      "  beakColor: \"red\",\n",
      "  flyHeight: 100\n",
      "}\n",
      "dog gave birth to 2 children\n",
      "parrot laid 5 eggs\n",
      "dog is eating\n",
      "parrot is eating\n",
      "parrot is eating insects and grains\n"
     ]
    }
   ],
   "source": [
    "class Animal {\n",
    "  constructor(name, weight, color) {\n",
    "    this.name = name;\n",
    "    this.weight = weight;\n",
    "    this.color = color;\n",
    "  }\n",
    "\n",
    "  eat() {\n",
    "    console.log(`${this.name} is eating`);\n",
    "  }\n",
    "\n",
    "  sleep() {\n",
    "    console.log(`${this.name} is sleeping`);\n",
    "  }\n",
    "}\n",
    "\n",
    "class Mammal extends Animal {\n",
    "  constructor(name, weight, color, favFood) {\n",
    "    super(name, weight, color);\n",
    "    this.favFood = favFood;\n",
    "  }\n",
    "\n",
    "  giveBirth(howMany) {\n",
    "    console.log(`${this.name} gave birth to ${howMany} children`);\n",
    "  }\n",
    "}\n",
    "\n",
    "class Bird extends Animal {\n",
    "  constructor(name, weight, color, beakColor, flyHeight) {\n",
    "    super(name, weight, color);\n",
    "    this.beakColor = beakColor;\n",
    "    this.flyHeight = flyHeight;\n",
    "  }\n",
    "\n",
    "  eat() {\n",
    "    super.eat();\n",
    "    console.log(`${this.name} is eating insects and grains`);\n",
    "  }\n",
    "\n",
    "  layEggs(howMany) {\n",
    "    console.log(`${this.name} laid ${howMany} eggs`);\n",
    "  }\n",
    "}\n",
    "\n",
    "let dog = new Mammal('dog', 10, 'black', 'biscuit');\n",
    "let parrot = new Bird('parrot', 0.1, 'green', 'red', 100);\n",
    "\n",
    "console.log(dog);\n",
    "console.log(parrot);\n",
    "\n",
    "dog.giveBirth(2);\n",
    "parrot.layEggs(5);\n",
    "\n",
    "dog.eat();\n",
    "parrot.eat();\n"
   ]
  },
  {
   "cell_type": "code",
   "execution_count": 19,
   "metadata": {},
   "outputs": [],
   "source": [
    "class Dog extends Mammal {\n",
    "  constructor(weight, color, favFood) {\n",
    "    super('dog', weight, color, favFood);\n",
    "  }\n",
    "\n",
    "  bark() {}\n",
    "  bite() {}\n",
    "}\n",
    "\n",
    "let dog = new Dog(10, 'black', 'biscuit');\n"
   ]
  },
  {
   "cell_type": "code",
   "execution_count": 20,
   "metadata": {},
   "outputs": [],
   "source": [
    "class Human extends Mammal {}\n",
    "\n",
    "class Cow extends Mammal {}\n",
    "\n",
    "class Employee extends Human {}\n"
   ]
  },
  {
   "cell_type": "code",
   "execution_count": 56,
   "metadata": {},
   "outputs": [
    {
     "name": "stdout",
     "output_type": "stream",
     "text": [
      "vidu\n"
     ]
    }
   ],
   "source": [
    "class Account {\n",
    "  constructor() {\n",
    "    this.actualBalance = 1000;\n",
    "    this.generalNominee = 'xyz';\n",
    "  }\n",
    "\n",
    "  get balance() {\n",
    "    return this.actualBalance - 100;\n",
    "  }\n",
    "\n",
    "  set balance(value) {\n",
    "    this.actualBalance = value * 2;\n",
    "  }\n",
    "\n",
    "  get nominee() {\n",
    "    return this.generalNominee;\n",
    "  }\n",
    "\n",
    "  set nominee(value) {\n",
    "    this.generalNominee = value;\n",
    "  }\n",
    "}\n",
    "\n",
    "let account = new Account();\n",
    "\n",
    "// account.balance = 122;\n",
    "// console.log(account.balance);\n",
    "// console.log(account.actualBalance);\n",
    "\n",
    "account.nominee = 'vidu';\n",
    "console.log(account.nominee);\n"
   ]
  },
  {
   "cell_type": "code",
   "execution_count": 5,
   "metadata": {},
   "outputs": [
    {
     "name": "stdout",
     "output_type": "stream",
     "text": [
      "undefined\n"
     ]
    },
    {
     "data": {
      "text/plain": [
       "\u001b[33m30\u001b[39m"
      ]
     },
     "execution_count": 5,
     "metadata": {},
     "output_type": "execute_result"
    }
   ],
   "source": [
    "function add(x, y) {\n",
    "  console.log(this);\n",
    "  return x + y;\n",
    "}\n",
    "\n",
    "add(10, 20);\n"
   ]
  },
  {
   "cell_type": "code",
   "execution_count": 2,
   "metadata": {},
   "outputs": [
    {
     "name": "stdout",
     "output_type": "stream",
     "text": [
      "10000\n",
      "20000\n"
     ]
    }
   ],
   "source": [
    "let obj = {\n",
    "  salary: 10000,\n",
    "  changeSalary(newSalary) {\n",
    "    this.salary = newSalary;\n",
    "  },\n",
    "};\n",
    "\n",
    "console.log(obj.salary);\n",
    "obj.changeSalary(20000);\n",
    "console.log(obj.salary);\n"
   ]
  },
  {
   "cell_type": "code",
   "execution_count": 22,
   "metadata": {},
   "outputs": [
    {
     "name": "stdout",
     "output_type": "stream",
     "text": [
      "in add() { k: 20, add: [Function: add], mult: [Function: mult] }\n",
      "25\n"
     ]
    }
   ],
   "source": [
    "let obj = {\n",
    "  k: 20,\n",
    "\n",
    "  add(x, y) {\n",
    "    console.log('in add()', this);\n",
    "    return x + y + this.k;\n",
    "  },\n",
    "\n",
    "  mult(x, y) {\n",
    "    return x * y + this.k;\n",
    "  },\n",
    "};\n",
    "\n",
    "let myCoolFn = obj.add;\n",
    "\n",
    "// console.log(myCoolFn(2, 3));\n",
    "console.log(obj.add(2, 3));\n"
   ]
  },
  {
   "cell_type": "code",
   "execution_count": 37,
   "metadata": {},
   "outputs": [
    {
     "name": "stdout",
     "output_type": "stream",
     "text": [
      "{ salary: 10000, name: \"rahul\" }\n",
      "hello rahul from hbh\n"
     ]
    }
   ],
   "source": [
    "function greet(place) {\n",
    "  console.log(this);\n",
    "  console.log(`hello ${this.name} from ${place}`);\n",
    "}\n",
    "\n",
    "let obj = {\n",
    "  salary: 10000,\n",
    "  name: 'rahul',\n",
    "};\n",
    "\n",
    "let boundGreet = greet.bind(obj);\n",
    "\n",
    "boundGreet('hbh');\n"
   ]
  },
  {
   "cell_type": "code",
   "execution_count": 40,
   "metadata": {},
   "outputs": [
    {
     "name": "stdout",
     "output_type": "stream",
     "text": [
      "{ salary: 10000, name: \"rahul\" }\n",
      "hello rahul, from hbh, ur age is 22\n"
     ]
    }
   ],
   "source": [
    "function greet(place, age) {\n",
    "  console.log(this);\n",
    "  console.log(`hello ${this.name}, from ${place}, ur age is ${age}`);\n",
    "}\n",
    "\n",
    "let obj = {\n",
    "  salary: 10000,\n",
    "  name: 'rahul',\n",
    "};\n",
    "\n",
    "greet.call(obj, 'hbh', 22);\n"
   ]
  },
  {
   "cell_type": "code",
   "execution_count": 41,
   "metadata": {},
   "outputs": [
    {
     "name": "stdout",
     "output_type": "stream",
     "text": [
      "{ salary: 10000, name: \"rahul\" }\n",
      "hello rahul, from hbh, ur age is 20\n"
     ]
    }
   ],
   "source": [
    "function greet(place, age) {\n",
    "  console.log(this);\n",
    "  console.log(`hello ${this.name}, from ${place}, ur age is ${age}`);\n",
    "}\n",
    "\n",
    "let obj = {\n",
    "  salary: 10000,\n",
    "  name: 'rahul',\n",
    "};\n",
    "\n",
    "greet.apply(obj, ['hbh', 20]);\n"
   ]
  },
  {
   "cell_type": "code",
   "execution_count": 62,
   "metadata": {},
   "outputs": [
    {
     "name": "stdout",
     "output_type": "stream",
     "text": [
      "{ name: \"rahul\", salary: 10000, greet: [Function: greet] }\n",
      "hello rahul, from hbh, ur age is 20\n"
     ]
    }
   ],
   "source": [
    "greet.bind(obj, 'hbh')(20);\n"
   ]
  },
  {
   "cell_type": "code",
   "execution_count": 59,
   "metadata": {},
   "outputs": [
    {
     "name": "stdout",
     "output_type": "stream",
     "text": [
      "{ name: \"rahul\", salary: 10000, greet: [Function: greet] }\n",
      "hello rahul, from hbh, ur age is 99\n",
      "{ name: \"rahul\", salary: 10000, greet: [Function: greet] }\n",
      "hello rahul, from hbh, ur age is 99\n",
      "{ name: \"rahul\", salary: 10000, greet: [Function: greet] }\n",
      "hello rahul, from hbh, ur age is 99\n",
      "{ name: \"rahul\", salary: 10000, greet: [Function: greet] }\n",
      "hello rahul, from hbh, ur age is 99\n"
     ]
    }
   ],
   "source": [
    "let boundGreet = greet.bind(obj, 'hbh', 99);\n",
    "\n",
    "boundGreet();\n",
    "boundGreet();\n",
    "boundGreet();\n",
    "boundGreet();\n"
   ]
  },
  {
   "cell_type": "code",
   "execution_count": 55,
   "metadata": {},
   "outputs": [
    {
     "name": "stdout",
     "output_type": "stream",
     "text": [
      "{ name: \"rahul\", salary: 10000, greet: [Function: greet] }\n",
      "hello rahul, from hbh, ur age is 20\n"
     ]
    }
   ],
   "source": [
    "// let boundGreet = greet.bind(obj);\n",
    "// boundGreet('hbh', 20);\n",
    "\n",
    "greet.bind(obj)('hbh', 20);\n"
   ]
  },
  {
   "cell_type": "code",
   "execution_count": 50,
   "metadata": {},
   "outputs": [
    {
     "name": "stdout",
     "output_type": "stream",
     "text": [
      "{ name: \"rahul\", salary: 10000, greet: [Function: greet] }\n",
      "hello rahul, from hbh, ur age is 20\n"
     ]
    }
   ],
   "source": [
    "let boundGreet = greet.bind(obj);\n",
    "boundGreet('hbh', 20);\n"
   ]
  },
  {
   "cell_type": "code",
   "execution_count": 44,
   "metadata": {},
   "outputs": [
    {
     "name": "stdout",
     "output_type": "stream",
     "text": [
      "{ salary: 10000, name: \"rahul\" }\n",
      "hello rahul, from hbh, ur age is 22\n",
      "{ salary: 10000, name: \"rahul\" }\n",
      "hello rahul, from hbh, ur age is 22\n"
     ]
    }
   ],
   "source": [
    "greet.call(obj, 'hbh', 22);\n",
    "greet.apply(obj, ['hbh', 22]); // only 2 args\n"
   ]
  },
  {
   "cell_type": "code",
   "execution_count": 46,
   "metadata": {},
   "outputs": [],
   "source": [
    "let student = {\n",
    "  name: 'cmd',\n",
    "  salary: 150000,\n",
    "};\n"
   ]
  },
  {
   "cell_type": "code",
   "execution_count": 49,
   "metadata": {},
   "outputs": [
    {
     "name": "stdout",
     "output_type": "stream",
     "text": [
      "hello rahul\n",
      "hello cmd\n"
     ]
    }
   ],
   "source": [
    "let obj = {\n",
    "  name: 'rahul',\n",
    "  salary: 10000,\n",
    "  greet() {\n",
    "    console.log(`hello ${this.name}`);\n",
    "  },\n",
    "};\n",
    "\n",
    "obj.greet();\n",
    "obj.greet.call(student);\n"
   ]
  },
  {
   "cell_type": "code",
   "execution_count": 42,
   "metadata": {},
   "outputs": [
    {
     "name": "stdout",
     "output_type": "stream",
     "text": [
      "banana\n",
      "orange\n",
      "apple\n",
      "grape\n"
     ]
    }
   ],
   "source": [
    "const juices = [\n",
    "  { id: 1, name: 'grape', rating: 8.1 },\n",
    "  { id: 2, name: 'apple', rating: 5.0 },\n",
    "  { id: 3, name: 'orange', rating: 6.9 },\n",
    "  { id: 4, name: 'banana', rating: 10 },\n",
    "];\n",
    "\n",
    "const mapping = {\n",
    "  '4': 1,\n",
    "  '3': 2,\n",
    "  '2': 3,\n",
    "  '1': 4,\n",
    "};\n",
    "\n",
    "let newJuices = juices\n",
    "  .map(juice => {\n",
    "    return { ...juice, rank: mapping[juice.id] };\n",
    "  })\n",
    "  .sort((a, b) => {\n",
    "    return a.rank - b.rank;\n",
    "  })\n",
    "  .map(juice => {\n",
    "    console.log(juice.name);\n",
    "  });\n",
    "\n",
    "// console.log('newJuices is: ', newJuices);\n"
   ]
  },
  {
   "cell_type": "code",
   "execution_count": 32,
   "metadata": {},
   "outputs": [
    {
     "data": {
      "text/plain": [
       "\u001b[33m383764\u001b[39m"
      ]
     },
     "execution_count": 32,
     "metadata": {},
     "output_type": "execute_result"
    }
   ],
   "source": [
    "let arr = [9, 7, 10, 19, 20, 22, 55];\n",
    "\n",
    "arr\n",
    "  .map(x => x ** 3)\n",
    "  .sort((a, b) => a - b)\n",
    "  .map(x => x * 2)\n",
    "  .filter(x => x > 2000)\n",
    "  .reduce((acc, elem) => {\n",
    "    acc += elem;\n",
    "    return acc;\n",
    "  }, 0);\n",
    "\n",
    "// arr.sort((a, b) => {\n",
    "//   console.log(`checking a=${a} and b=${b}   ${a - b}`);\n",
    "//   return a - b;\n",
    "// });\n"
   ]
  },
  {
   "cell_type": "code",
   "execution_count": null,
   "metadata": {},
   "outputs": [
    {
     "name": "stdout",
     "output_type": "stream",
     "text": [
      "7\n",
      "8\n",
      "9\n",
      "[ undefined, undefined, undefined ]\n"
     ]
    }
   ],
   "source": [
    "let arr = [7, 8, 9];\n",
    "\n",
    "let newArr = arr.map(x => console.log(x));\n",
    "\n",
    "console.log(newArr);\n"
   ]
  },
  {
   "cell_type": "code",
   "execution_count": 6,
   "metadata": {},
   "outputs": [
    {
     "name": "stdout",
     "output_type": "stream",
     "text": [
      "rahul\n",
      "undefined\n"
     ]
    }
   ],
   "source": [
    "console.log(console.log('rahul'));\n"
   ]
  },
  {
   "cell_type": "code",
   "execution_count": 7,
   "metadata": {},
   "outputs": [
    {
     "name": "stdout",
     "output_type": "stream",
     "text": [
      "5\n",
      "2\n",
      "0\n"
     ]
    }
   ],
   "source": [
    "let paruCount = 0;\n",
    "let rahulCount = 0;\n",
    "let vishnuCount = 0;\n",
    "\n",
    "function paruIncrement() {\n",
    "  paruCount += 1;\n",
    "}\n",
    "\n",
    "function rahulIncrement() {\n",
    "  rahulCount += 1;\n",
    "}\n",
    "\n",
    "function vishnuIncrement() {\n",
    "  vishnuCount += 1;\n",
    "}\n",
    "\n",
    "rahulIncrement();\n",
    "rahulIncrement();\n",
    "\n",
    "paruIncrement();\n",
    "paruIncrement();\n",
    "paruIncrement();\n",
    "paruIncrement();\n",
    "paruIncrement();\n",
    "\n",
    "console.log(paruCount);\n",
    "console.log(rahulCount);\n",
    "console.log(vishnuCount);\n"
   ]
  },
  {
   "cell_type": "code",
   "execution_count": null,
   "metadata": {},
   "outputs": [
    {
     "name": "stdout",
     "output_type": "stream",
     "text": [
      "just created a fresh count(0) for paru\n",
      "just created a fresh count(0) for vidu\n",
      "paru's count is 5\n"
     ]
    }
   ],
   "source": [
    "function createCounter(myName) {\n",
    "  let count = 0;\n",
    "  console.log(`just created a fresh count(${count}) for ${myName}`);\n",
    "\n",
    "  return {\n",
    "    show() {\n",
    "      console.log(`${myName}'s count is ${count}`);\n",
    "    },\n",
    "\n",
    "    increment() {\n",
    "      count++;\n",
    "    },\n",
    "  };\n",
    "}\n",
    "\n",
    "let paruCounter = createCounter('paru');\n",
    "let viduCounter = createCounter('vidu');\n",
    "\n",
    "paruCounter.increment();\n",
    "paruCounter.increment();\n",
    "paruCounter.increment();\n",
    "paruCounter.increment();\n",
    "paruCounter.increment();\n",
    "\n",
    "paruCounter.show();\n"
   ]
  },
  {
   "cell_type": "code",
   "execution_count": 24,
   "metadata": {},
   "outputs": [
    {
     "name": "stdout",
     "output_type": "stream",
     "text": [
      "this is:  { a: 10, b: [Function: b] }\n"
     ]
    },
    {
     "data": {
      "text/plain": [
       "\u001b[33m10\u001b[39m"
      ]
     },
     "execution_count": 24,
     "metadata": {},
     "output_type": "execute_result"
    }
   ],
   "source": [
    "let myObj = {\n",
    "  a: 10,\n",
    "  b() {\n",
    "    console.log('this is: ', this);\n",
    "    return this.a;\n",
    "  },\n",
    "};\n",
    "\n",
    "let c = myObj.b;\n",
    "\n",
    "c.call(myObj, 100000, 'rahul');\n"
   ]
  },
  {
   "cell_type": "code",
   "execution_count": 15,
   "metadata": {},
   "outputs": [
    {
     "name": "stdout",
     "output_type": "stream",
     "text": [
      "this is:  undefined\n"
     ]
    }
   ],
   "source": [
    "function regFunc() {\n",
    "  console.log('this is: ', this);\n",
    "}\n",
    "\n",
    "regFunc();\n"
   ]
  },
  {
   "cell_type": "code",
   "execution_count": 27,
   "metadata": {},
   "outputs": [
    {
     "ename": "ReferenceError",
     "evalue": "india is not defined",
     "output_type": "error",
     "traceback": [
      "Stack trace:",
      "ReferenceError: india is not defined",
      "    at <anonymous>:1:34"
     ]
    }
   ],
   "source": [
    "console.log(india);\n",
    "\n",
    "let india = 'omg india';\n"
   ]
  },
  {
   "cell_type": "code",
   "execution_count": 28,
   "metadata": {},
   "outputs": [
    {
     "name": "stdout",
     "output_type": "stream",
     "text": [
      "undefined\n"
     ]
    }
   ],
   "source": [
    "console.log(china);\n",
    "\n",
    "var china = 'omg this is china';\n"
   ]
  },
  {
   "cell_type": "code",
   "execution_count": 29,
   "metadata": {},
   "outputs": [
    {
     "name": "stdout",
     "output_type": "stream",
     "text": [
      "undefined\n"
     ]
    }
   ],
   "source": [
    "let france = undefined;\n",
    "\n",
    "console.log(france);\n"
   ]
  },
  {
   "cell_type": "code",
   "execution_count": 30,
   "metadata": {},
   "outputs": [
    {
     "name": "stdout",
     "output_type": "stream",
     "text": [
      "undefined\n"
     ]
    }
   ],
   "source": [
    "let usa;\n",
    "\n",
    "console.log(usa);\n"
   ]
  },
  {
   "cell_type": "code",
   "execution_count": 31,
   "metadata": {},
   "outputs": [
    {
     "ename": "ReferenceError",
     "evalue": "italy is not defined",
     "output_type": "error",
     "traceback": [
      "Stack trace:",
      "ReferenceError: italy is not defined",
      "    at <anonymous>:1:34"
     ]
    }
   ],
   "source": [
    "console.log(italy);\n",
    "\n",
    "let italy = `ok bhai!`;\n"
   ]
  }
 ],
 "metadata": {
  "kernelspec": {
   "display_name": "Deno",
   "language": "typescript",
   "name": "deno"
  },
  "language_info": {
   "codemirror_mode": "typescript",
   "file_extension": ".ts",
   "mimetype": "text/x.typescript",
   "name": "typescript",
   "nbconvert_exporter": "script",
   "pygments_lexer": "typescript",
   "version": "5.5.2"
  }
 },
 "nbformat": 4,
 "nbformat_minor": 2
}
