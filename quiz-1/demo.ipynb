{
 "cells": [
  {
   "cell_type": "code",
   "execution_count": 7,
   "metadata": {},
   "outputs": [
    {
     "data": {
      "text/plain": [
       "['apple', 'kiwi']"
      ]
     },
     "execution_count": 7,
     "metadata": {},
     "output_type": "execute_result"
    },
    {
     "data": {
      "text/plain": [
       "['apple', 'kiwi', 'banana', 'orange']"
      ]
     },
     "execution_count": 7,
     "metadata": {},
     "output_type": "execute_result"
    }
   ],
   "source": [
    "arr = ['apple', 'kiwi', 'banana', 'orange']\n",
    "\n",
    "arr[:2]  # new arr, orig arr untouched\n",
    "arr"
   ]
  },
  {
   "cell_type": "code",
   "execution_count": 9,
   "metadata": {},
   "outputs": [
    {
     "data": {
      "text/plain": [
       "['orange', 'banana', 'kiwi', 'apple']"
      ]
     },
     "execution_count": 9,
     "metadata": {},
     "output_type": "execute_result"
    }
   ],
   "source": [
    "list(reversed(arr))"
   ]
  },
  {
   "cell_type": "code",
   "execution_count": 14,
   "metadata": {},
   "outputs": [
    {
     "data": {
      "text/plain": [
       "list"
      ]
     },
     "execution_count": 14,
     "metadata": {},
     "output_type": "execute_result"
    },
    {
     "data": {
      "text/plain": [
       "set"
      ]
     },
     "execution_count": 14,
     "metadata": {},
     "output_type": "execute_result"
    },
    {
     "data": {
      "text/plain": [
       "dict"
      ]
     },
     "execution_count": 14,
     "metadata": {},
     "output_type": "execute_result"
    }
   ],
   "source": [
    "type(['apple', 'banana', 'kiwi', 'apple'])\n",
    "type({'apple', 'banana', 'kiwi', 'apple'})\n",
    "type({'age': 20, 'salary': 10000})"
   ]
  },
  {
   "cell_type": "code",
   "execution_count": 21,
   "metadata": {},
   "outputs": [
    {
     "data": {
      "text/plain": [
       "('rahul', 22, 'hbh')"
      ]
     },
     "execution_count": 21,
     "metadata": {},
     "output_type": "execute_result"
    }
   ],
   "source": [
    "name, age, place = ['rahul', 22, 'hbh']\n",
    "\n",
    "name, age, place"
   ]
  },
  {
   "cell_type": "code",
   "execution_count": 3,
   "metadata": {},
   "outputs": [
    {
     "name": "stdout",
     "output_type": "stream",
     "text": [
      "hello rahul, from hbh\n",
      "hello cmd, from hbh\n"
     ]
    }
   ],
   "source": [
    "def greet(name, age, place):\n",
    "  print(f'hello {name}, from {place}')\n",
    "\n",
    "\n",
    "greet('rahul', 20, 'hbh')  # positional args\n",
    "greet(age=20, place='hbh', name='cmd')  # keyword args"
   ]
  },
  {
   "cell_type": "code",
   "execution_count": 1,
   "metadata": {},
   "outputs": [
    {
     "name": "stdout",
     "output_type": "stream",
     "text": [
      "['John Doe', 'Jane Smith']\n"
     ]
    }
   ],
   "source": [
    "employees = [\n",
    "    {\"Name\": \"John Doe\", \"Salary\": 60000},\n",
    "    {\"Name\": \"Jane Smith\", \"Salary\": 55000},\n",
    "    {\"Name\": \"Michael Johnson\", \"Salary\": 48000}\n",
    "]\n",
    "\n",
    "result = []\n",
    "salary_threshold = 50000\n",
    "\n",
    "for emp in employees:\n",
    "    if emp[\"Salary\"] > salary_threshold:\n",
    "        result.append(emp[\"Name\"])\n",
    "\n",
    "print(result)"
   ]
  },
  {
   "cell_type": "markdown",
   "metadata": {},
   "source": [
    "SELECT Name\n",
    "FROM Employees\n",
    "WHERE Salary > 50000"
   ]
  }
 ],
 "metadata": {
  "kernelspec": {
   "display_name": "Python 3",
   "language": "python",
   "name": "python3"
  },
  "language_info": {
   "codemirror_mode": {
    "name": "ipython",
    "version": 3
   },
   "file_extension": ".py",
   "mimetype": "text/x-python",
   "name": "python",
   "nbconvert_exporter": "python",
   "pygments_lexer": "ipython3",
   "version": "3.12.6"
  }
 },
 "nbformat": 4,
 "nbformat_minor": 2
}
