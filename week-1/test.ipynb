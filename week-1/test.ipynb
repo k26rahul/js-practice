{
 "cells": [
  {
   "cell_type": "code",
   "execution_count": 2,
   "metadata": {},
   "outputs": [
    {
     "name": "stdout",
     "output_type": "stream",
     "text": [
      "hello muskan\n"
     ]
    }
   ],
   "source": [
    "name = 'muskan'\n",
    "\n",
    "print('hello ' + name)"
   ]
  },
  {
   "cell_type": "code",
   "execution_count": 3,
   "metadata": {},
   "outputs": [
    {
     "data": {
      "text/plain": [
       "15"
      ]
     },
     "execution_count": 3,
     "metadata": {},
     "output_type": "execute_result"
    }
   ],
   "source": [
    "x = 10\n",
    "\n",
    "x = 15\n",
    "\n",
    "x"
   ]
  },
  {
   "cell_type": "code",
   "execution_count": 1,
   "metadata": {},
   "outputs": [
    {
     "name": "stdout",
     "output_type": "stream",
     "text": [
      "ok\n",
      "1024\n",
      "happy\n"
     ]
    }
   ],
   "source": [
    "if 2 == 2:\n",
    "  song = 'happy'\n",
    "  print('ok')\n",
    "  print(2 ** 10)\n",
    "\n",
    "print(song)"
   ]
  },
  {
   "cell_type": "code",
   "execution_count": 3,
   "metadata": {},
   "outputs": [
    {
     "name": "stdout",
     "output_type": "stream",
     "text": [
      "olleh\n"
     ]
    }
   ],
   "source": [
    "def reverse_string(input_string):\n",
    "  return 'ok'\n",
    "\n",
    "\n",
    "print(reverse_string('hello'))"
   ]
  },
  {
   "cell_type": "code",
   "execution_count": 15,
   "metadata": {},
   "outputs": [
    {
     "data": {
      "text/plain": [
       "'elppa'"
      ]
     },
     "execution_count": 15,
     "metadata": {},
     "output_type": "execute_result"
    }
   ],
   "source": [
    "word = 'apple'\n",
    "\n",
    "new_word = ''  # we want to make it `elppa`\n",
    "\n",
    "for i in range(len(word)-1, -1, -1):  # (start, stop, step_size)\n",
    "  new_word += word[i]\n",
    "\n",
    "new_word"
   ]
  },
  {
   "cell_type": "code",
   "execution_count": 27,
   "metadata": {},
   "outputs": [
    {
     "name": "stdout",
     "output_type": "stream",
     "text": [
      "True\n"
     ]
    }
   ],
   "source": [
    "word = 'aibohphobiaibohphobiaibohphobiaibohphobiaibohphobia'\n",
    "\n",
    "i = 0\n",
    "j = len(word)-1\n",
    "is_pal = True\n",
    "\n",
    "while is_pal:\n",
    "  if i == j:\n",
    "    break\n",
    "\n",
    "  if word[i] != word[j]:\n",
    "    print(i, j)\n",
    "    is_pal = False\n",
    "\n",
    "  i += 1\n",
    "  j -= 1\n",
    "\n",
    "print(is_pal)"
   ]
  },
  {
   "cell_type": "code",
   "execution_count": 28,
   "metadata": {},
   "outputs": [
    {
     "name": "stdout",
     "output_type": "stream",
     "text": [
      "True\n"
     ]
    }
   ],
   "source": [
    "word = 'aibohphobiaibohphobiaibohphobiaibohphobiaibohphobia'\n",
    "is_pal = True\n",
    "\n",
    "for i in range(len(word)):\n",
    "  j = len(word)-1-i\n",
    "\n",
    "  if i == j:\n",
    "    break\n",
    "\n",
    "  if word[i] != word[j]:\n",
    "    is_pal = False\n",
    "    break\n",
    "\n",
    "print(is_pal)"
   ]
  },
  {
   "cell_type": "code",
   "execution_count": 29,
   "metadata": {},
   "outputs": [
    {
     "data": {
      "text/plain": [
       "True"
      ]
     },
     "execution_count": 29,
     "metadata": {},
     "output_type": "execute_result"
    }
   ],
   "source": [
    "word = 'aibohphobiaibohphobiaibohphobiaibohphobiaibohphobia'\n",
    "\n",
    "mid = len(word)//2\n",
    "\n",
    "left_part = word[0:mid]\n",
    "if len(word) % 2 == 0:\n",
    "  right_part = word[mid:][::-1]\n",
    "else:\n",
    "  right_part = word[mid+1:][::-1]\n",
    "\n",
    "left_part == right_part"
   ]
  },
  {
   "cell_type": "code",
   "execution_count": 34,
   "metadata": {},
   "outputs": [
    {
     "name": "stdout",
     "output_type": "stream",
     "text": [
      "True\n",
      "aibohphobiaibohphobiaibohphobiaibohphobiaibohphobia\n"
     ]
    }
   ],
   "source": [
    "word = 'aibohphobiaibohphobiaibohphobiaibohphobiaibohphobia'\n",
    "new_word = word\n",
    "\n",
    "is_pal = True\n",
    "\n",
    "while is_pal:\n",
    "  if new_word == '':\n",
    "    break\n",
    "\n",
    "  first = new_word[0]\n",
    "  last = new_word[-1]\n",
    "\n",
    "  if first != last:\n",
    "    is_pal = False\n",
    "\n",
    "  new_word = new_word[1:-1]\n",
    "\n",
    "print(is_pal)\n",
    "print(word)"
   ]
  },
  {
   "cell_type": "code",
   "execution_count": 36,
   "metadata": {},
   "outputs": [
    {
     "name": "stdout",
     "output_type": "stream",
     "text": [
      "word='apple'\n",
      "my fav word is: word='apple'\n"
     ]
    }
   ],
   "source": [
    "word = 'apple'\n",
    "\n",
    "print(f'{word=}')\n",
    "\n",
    "print(f'my fav word is: {word=}')"
   ]
  },
  {
   "cell_type": "code",
   "execution_count": 6,
   "metadata": {},
   "outputs": [
    {
     "data": {
      "text/plain": [
       "False"
      ]
     },
     "execution_count": 6,
     "metadata": {},
     "output_type": "execute_result"
    }
   ],
   "source": [
    "word = 'madal'\n",
    "\n",
    "i = 0\n",
    "j = len(word)-1\n",
    "is_pal = True\n",
    "\n",
    "while is_pal:\n",
    "  if i == j:\n",
    "    break\n",
    "\n",
    "  if word[i] == word[j]:\n",
    "    i += 1\n",
    "    j -= 1\n",
    "  else:\n",
    "    is_pal = False\n",
    "\n",
    "is_pal"
   ]
  },
  {
   "cell_type": "code",
   "execution_count": 9,
   "metadata": {},
   "outputs": [
    {
     "data": {
      "text/plain": [
       "True"
      ]
     },
     "execution_count": 9,
     "metadata": {},
     "output_type": "execute_result"
    }
   ],
   "source": [
    "word = 'madam'\n",
    "\n",
    "i = 0\n",
    "j = len(word)-1\n",
    "is_pal = True\n",
    "\n",
    "for _ in range(len(word)):\n",
    "  if i == j:\n",
    "    break\n",
    "\n",
    "  if word[i] == word[j]:\n",
    "    i += 1\n",
    "    j -= 1\n",
    "  else:\n",
    "    is_pal = False\n",
    "\n",
    "is_pal"
   ]
  },
  {
   "cell_type": "code",
   "execution_count": 13,
   "metadata": {},
   "outputs": [
    {
     "data": {
      "text/plain": [
       "False"
      ]
     },
     "execution_count": 13,
     "metadata": {},
     "output_type": "execute_result"
    }
   ],
   "source": [
    "word = 'madal'\n",
    "is_pal = True\n",
    "\n",
    "for i in range(len(word)):\n",
    "  j = len(word)-1-i\n",
    "\n",
    "  if i == j:\n",
    "    break\n",
    "\n",
    "  if word[i] != word[j]:\n",
    "    is_pal = False\n",
    "    break\n",
    "\n",
    "is_pal"
   ]
  },
  {
   "cell_type": "code",
   "execution_count": 16,
   "metadata": {},
   "outputs": [
    {
     "name": "stdout",
     "output_type": "stream",
     "text": [
      "first='m', last='m'\n",
      "first='a', last='a'\n",
      "first='d', last='d'\n"
     ]
    },
    {
     "data": {
      "text/plain": [
       "True"
      ]
     },
     "execution_count": 16,
     "metadata": {},
     "output_type": "execute_result"
    }
   ],
   "source": [
    "word = 'madam'\n",
    "is_pal = True\n",
    "\n",
    "while word != '':\n",
    "  first = word[0]\n",
    "  last = word[-1]\n",
    "\n",
    "  print(f'{first=}, {last=}')\n",
    "\n",
    "  if first == last:\n",
    "    word = word[1:-1]\n",
    "  else:\n",
    "    is_pal = False\n",
    "    break\n",
    "\n",
    "is_pal"
   ]
  },
  {
   "cell_type": "code",
   "execution_count": 27,
   "metadata": {},
   "outputs": [
    {
     "data": {
      "text/plain": [
       "True"
      ]
     },
     "execution_count": 27,
     "metadata": {},
     "output_type": "execute_result"
    }
   ],
   "source": [
    "word = 'maam'\n",
    "\n",
    "mid = len(word)//2\n",
    "\n",
    "left_part = word[:mid]\n",
    "if len(word) % 2 == 0:\n",
    "  right_part = word[mid:]\n",
    "else:\n",
    "  right_part = word[mid+1:]\n",
    "\n",
    "left_part == right_part[::-1]"
   ]
  },
  {
   "cell_type": "code",
   "execution_count": 1,
   "metadata": {},
   "outputs": [
    {
     "data": {
      "text/plain": [
       "'elppa'"
      ]
     },
     "execution_count": 1,
     "metadata": {},
     "output_type": "execute_result"
    }
   ],
   "source": [
    "word = 'apple'\n",
    "\n",
    "word[::-1]"
   ]
  },
  {
   "cell_type": "code",
   "execution_count": 9,
   "metadata": {},
   "outputs": [
    {
     "data": {
      "text/plain": [
       "['a', 'p', 'p', 'l', 'e']"
      ]
     },
     "execution_count": 9,
     "metadata": {},
     "output_type": "execute_result"
    },
    {
     "data": {
      "text/plain": [
       "['e', 'l', 'p', 'p', 'a']"
      ]
     },
     "execution_count": 9,
     "metadata": {},
     "output_type": "execute_result"
    },
    {
     "data": {
      "text/plain": [
       "'elppa'"
      ]
     },
     "execution_count": 9,
     "metadata": {},
     "output_type": "execute_result"
    }
   ],
   "source": [
    "word = 'apple'\n",
    "\n",
    "lst = list(word)\n",
    "lst\n",
    "\n",
    "lst.reverse()\n",
    "lst\n",
    "\n",
    "''.join(lst)"
   ]
  },
  {
   "cell_type": "code",
   "execution_count": 1,
   "metadata": {},
   "outputs": [],
   "source": [
    "# import os\n",
    "# from moviepy import VideoFileClip\n",
    "\n",
    "\n",
    "# def get_video_details(file_path):\n",
    "#   \"\"\"Get the size and duration of a video file.\"\"\"\n",
    "#   size = os.path.getsize(file_path) / (1024 * 1024)  # Size in MB\n",
    "#   try:\n",
    "#     with VideoFileClip(file_path) as clip:\n",
    "#       duration = f\"{clip.duration:.2f} sec\"\n",
    "#   except Exception:\n",
    "#     duration = \"NA\"\n",
    "#   return size, duration\n",
    "\n",
    "\n",
    "# def print_video_details(label, file_name, size, duration):\n",
    "#   \"\"\"Print video details in a clean format.\"\"\"\n",
    "#   print(f\"{label}: {file_name} | Size: {size:.2f} MB | Duration: {duration}\")\n",
    "\n",
    "\n",
    "# def check_mkv_mp4_pair(mkv_path, mp4_path):\n",
    "#   \"\"\"Check if MKV and MP4 pair match and print their details.\"\"\"\n",
    "#   mkv_size, mkv_duration = get_video_details(mkv_path)\n",
    "#   print_video_details(\"MKV\", os.path.basename(mkv_path), mkv_size, mkv_duration)\n",
    "\n",
    "#   if mp4_path:\n",
    "#     mp4_size, mp4_duration = get_video_details(mp4_path)\n",
    "#     print_video_details(\"MP4\", os.path.basename(mp4_path), mp4_size, mp4_duration)\n",
    "\n",
    "#     if mkv_duration == \"NA\" or mp4_duration == \"NA\" or mkv_duration == mp4_duration:\n",
    "#       print(\"✅ MP4 found and durations match or NA.\")  # HERE\n",
    "#     else:\n",
    "#       print(\"❌ MP4 found but durations do not match.\")\n",
    "#   else:\n",
    "#     print(\"❌ No matching MP4 file found.\")\n",
    "\n",
    "\n",
    "# def compare_videos(folder_path):\n",
    "#   \"\"\"Main function to compare MKV and MP4 files in a folder.\"\"\"\n",
    "#   mkv_files = [file for file in os.listdir(folder_path) if file.endswith(\".mkv\")]\n",
    "#   mp4_files = {file: os.path.join(folder_path, file) for file in os.listdir(folder_path) if file.endswith(\".mp4\")}\n",
    "\n",
    "#   all_mp4_found = True\n",
    "\n",
    "#   for mkv_file in mkv_files:\n",
    "#     mkv_path = os.path.join(folder_path, mkv_file)\n",
    "#     mp4_path = mp4_files.get(os.path.splitext(mkv_file)[0] + \".mp4\")\n",
    "\n",
    "#     check_mkv_mp4_pair(mkv_path, mp4_path)\n",
    "\n",
    "#     if not mp4_path:\n",
    "#       all_mp4_found = False\n",
    "\n",
    "#   print(\"\\n========================================\")\n",
    "#   if all_mp4_found:\n",
    "#     print(\"🎉🎉🎉 MISSION SUCCESSFUL: ALL MKV FILES HAVE MATCHING MP4 FILES! 🎉🎉🎉\")\n",
    "#   else:\n",
    "#     print(\"🚨🚨🚨 MISSION FAILED: SOME MKV FILES ARE MISSING MATCHING MP4 FILES! 🚨🚨🚨\")\n",
    "\n",
    "\n",
    "# folder = r\"C:\\Users\\k26ra\\Videos\\Captures\"\n",
    "# compare_videos(folder)"
   ]
  },
  {
   "cell_type": "code",
   "execution_count": null,
   "metadata": {},
   "outputs": [],
   "source": [
    "for i in range(5):\n",
    "  if i % 2 == 0:\n",
    "    print(f'{i} is even number')\n",
    "  else:\n",
    "    print(f'{i} is odd number')\n",
    "  print('boom')"
   ]
  }
 ],
 "metadata": {
  "kernelspec": {
   "display_name": "Python 3",
   "language": "python",
   "name": "python3"
  },
  "language_info": {
   "codemirror_mode": {
    "name": "ipython",
    "version": 3
   },
   "file_extension": ".py",
   "mimetype": "text/x-python",
   "name": "python",
   "nbconvert_exporter": "python",
   "pygments_lexer": "ipython3",
   "version": "3.12.6"
  }
 },
 "nbformat": 4,
 "nbformat_minor": 2
}
