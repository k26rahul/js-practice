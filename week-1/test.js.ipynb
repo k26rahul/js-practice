{
 "cells": [
  {
   "cell_type": "code",
   "execution_count": 7,
   "metadata": {},
   "outputs": [
    {
     "name": "stdout",
     "output_type": "stream",
     "text": [
      "100\n",
      "100\n"
     ]
    }
   ],
   "source": [
    "var x = 100;\n",
    "\n",
    "console.log(x);\n",
    "console.log(x);\n"
   ]
  },
  {
   "cell_type": "code",
   "execution_count": 4,
   "metadata": {},
   "outputs": [],
   "source": [
    "var x = 5;\n"
   ]
  },
  {
   "cell_type": "code",
   "execution_count": 3,
   "metadata": {},
   "outputs": [
    {
     "name": "stdout",
     "output_type": "stream",
     "text": [
      "null\n"
     ]
    }
   ],
   "source": [
    "console.log(null);\n"
   ]
  },
  {
   "cell_type": "code",
   "execution_count": 4,
   "metadata": {},
   "outputs": [
    {
     "name": "stdout",
     "output_type": "stream",
     "text": [
      "undefined\n"
     ]
    }
   ],
   "source": [
    "console.log(undefined);\n"
   ]
  },
  {
   "cell_type": "code",
   "execution_count": 2,
   "metadata": {},
   "outputs": [
    {
     "name": "stdout",
     "output_type": "stream",
     "text": [
      "{ red_fruit: \"apple\", yellow_fruit: \"banana\", green_fruit: \"grapes\" }\n"
     ]
    }
   ],
   "source": [
    "var red_fruit = 'apple';\n",
    "var yellow_fruit = 'banana';\n",
    "var green_fruit = 'grapes';\n",
    "\n",
    "var many_fruits = {\n",
    "  red_fruit,\n",
    "  yellow_fruit,\n",
    "  green_fruit,\n",
    "};\n",
    "\n",
    "console.log(many_fruits);\n"
   ]
  },
  {
   "cell_type": "code",
   "execution_count": 4,
   "metadata": {},
   "outputs": [
    {
     "name": "stdout",
     "output_type": "stream",
     "text": [
      "{ word1: \"apple\", word2: \"banana\" }\n",
      "{ word1: \"apple\", word2: \"banana\" }\n"
     ]
    }
   ],
   "source": [
    "var word1 = 'apple';\n",
    "var word2 = 'banana';\n",
    "\n",
    "var nice_words = {\n",
    "  word1,\n",
    "  word2,\n",
    "};\n",
    "\n",
    "console.log(nice_words);\n",
    "\n",
    "console.log({ word1, word2 });\n"
   ]
  },
  {
   "cell_type": "code",
   "execution_count": 10,
   "metadata": {},
   "outputs": [
    {
     "name": "stdout",
     "output_type": "stream",
     "text": [
      "my fav fruit is { word: \"apple\" }\n"
     ]
    }
   ],
   "source": [
    "var word = 'apple';\n",
    "\n",
    "console.log('my fav fruit is', { word });\n"
   ]
  }
 ],
 "metadata": {
  "kernelspec": {
   "display_name": "Deno",
   "language": "typescript",
   "name": "deno"
  },
  "language_info": {
   "codemirror_mode": "typescript",
   "file_extension": ".ts",
   "mimetype": "text/x.typescript",
   "name": "typescript",
   "nbconvert_exporter": "script",
   "pygments_lexer": "typescript",
   "version": "5.5.2"
  }
 },
 "nbformat": 4,
 "nbformat_minor": 2
}
