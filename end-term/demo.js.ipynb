{
 "cells": [
  {
   "cell_type": "code",
   "execution_count": 9,
   "id": "3997a6dd",
   "metadata": {},
   "outputs": [
    {
     "name": "stdout",
     "output_type": "stream",
     "text": [
      "Japan inside myFunc\n",
      "China inside myFunc\n"
     ]
    },
    {
     "data": {
      "text/plain": [
       "\u001b[32m\"hello Vishnu, you are very welcome to Japan\"\u001b[39m"
      ]
     },
     "execution_count": 9,
     "metadata": {},
     "output_type": "execute_result"
    }
   ],
   "source": [
    "/* \n",
    "Higher Order Function: A function that takes a function as an argument or returns a function as its result.\n",
    "e.g. myFunc\n",
    "\n",
    "Closure: A function that captures the lexical scope in which it was created, allowing it to remember the environment in which it was defined.\n",
    "e.g. welcomeToCountry\n",
    "*/\n",
    "\n",
    "function myFunc(country) {\n",
    "  console.log(`${country} inside myFunc`);\n",
    "\n",
    "  return function welcomeToCountry(myName) {\n",
    "    return `hello ${myName}, you are very welcome to ${country}`;\n",
    "  };\n",
    "}\n",
    "\n",
    "let welcomeToJapan = myFunc('Japan');\n",
    "let welcomeToChina = myFunc('China');\n",
    "\n",
    "welcomeToJapan('Vishnu');\n"
   ]
  },
  {
   "cell_type": "markdown",
   "id": "3a06e9de",
   "metadata": {},
   "source": [
    "- call(context, ...argsArr)\n",
    "- apply(context, argsArr)"
   ]
  },
  {
   "cell_type": "code",
   "execution_count": null,
   "id": "e12b072e",
   "metadata": {},
   "outputs": [
    {
     "name": "stdout",
     "output_type": "stream",
     "text": [
      "John Doe\n",
      "Jane Smith\n",
      "Jane Smith\n"
     ]
    }
   ],
   "source": [
    "const person = {\n",
    "  firstName: 'John',\n",
    "  lastName: 'Doe',\n",
    "  fullName: function () {\n",
    "    return `${this.firstName} ${this.lastName}`;\n",
    "  },\n",
    "};\n",
    "\n",
    "console.log(person.fullName());\n",
    "console.log(person.fullName.call({ firstName: 'Jane', lastName: 'Smith' }, 10, 20));\n",
    "console.log(person.fullName.apply({ firstName: 'Jane', lastName: 'Smith' }, [10, 20]));\n"
   ]
  },
  {
   "cell_type": "code",
   "execution_count": 8,
   "id": "edc68d26",
   "metadata": {},
   "outputs": [
    {
     "name": "stdout",
     "output_type": "stream",
     "text": [
      "John Doe\n",
      "Jane Smith\n"
     ]
    }
   ],
   "source": [
    "const person = {\n",
    "  firstName: 'John',\n",
    "  lastName: 'Doe',\n",
    "  fullName: function () {\n",
    "    return `${this.firstName} ${this.lastName}`;\n",
    "  },\n",
    "};\n",
    "\n",
    "console.log(person.fullName());\n",
    "\n",
    "const fullNameBound = person.fullName.bind({ firstName: 'Jane', lastName: 'Smith' });\n",
    "console.log(fullNameBound());\n"
   ]
  },
  {
   "cell_type": "code",
   "execution_count": 2,
   "id": "be4eb3eb",
   "metadata": {},
   "outputs": [
    {
     "data": {
      "text/plain": [
       "\u001b[33mNaN\u001b[39m"
      ]
     },
     "execution_count": 2,
     "metadata": {},
     "output_type": "execute_result"
    }
   ],
   "source": [
    "undefined + undefined;\n"
   ]
  },
  {
   "cell_type": "code",
   "execution_count": 1,
   "id": "8b610a25",
   "metadata": {},
   "outputs": [
    {
     "data": {
      "text/plain": [
       "{ principal: \u001b[33m0\u001b[39m, rate: \u001b[33m0\u001b[39m, time: \u001b[33m0\u001b[39m, finalAmount: \u001b[33mNaN\u001b[39m }"
      ]
     },
     "execution_count": 1,
     "metadata": {},
     "output_type": "execute_result"
    }
   ],
   "source": [
    "const obj = {\n",
    "  principal: 0,\n",
    "  rate: 0,\n",
    "  time: 0,\n",
    "  finalAmount: this.principal + this.rate,\n",
    "};\n",
    "\n",
    "obj;\n"
   ]
  },
  {
   "cell_type": "code",
   "execution_count": 5,
   "id": "4c2789a4",
   "metadata": {},
   "outputs": [
    {
     "name": "stdout",
     "output_type": "stream",
     "text": [
      "{ name: \"paru\", age: 22, salary: 10000 }\n",
      "{ name: \"paru\", age: 22, salary: 10000 }\n",
      "true\n"
     ]
    }
   ],
   "source": [
    "let student1 = {\n",
    "  name: 'vidu',\n",
    "  age: 22,\n",
    "  salary: 10000,\n",
    "};\n",
    "\n",
    "let student2 = student1;\n",
    "\n",
    "student1.name = 'paru';\n",
    "\n",
    "console.log(student1);\n",
    "console.log(student2);\n",
    "console.log(student1 === student2);\n"
   ]
  },
  {
   "cell_type": "code",
   "execution_count": 6,
   "id": "60a77804",
   "metadata": {},
   "outputs": [
    {
     "name": "stdout",
     "output_type": "stream",
     "text": [
      "{ name: \"paru\", age: 22, salary: 10000 }\n",
      "{ name: \"vidu\", age: 22, salary: 10000 }\n",
      "false\n"
     ]
    }
   ],
   "source": [
    "let student1 = {\n",
    "  name: 'vidu',\n",
    "  age: 22,\n",
    "  salary: 10000,\n",
    "};\n",
    "\n",
    "let student2 = {\n",
    "  name: 'vidu',\n",
    "  age: 22,\n",
    "  salary: 10000,\n",
    "};\n",
    "\n",
    "student1.name = 'paru';\n",
    "\n",
    "console.log(student1);\n",
    "console.log(student2);\n",
    "console.log(student1 === student2);\n"
   ]
  },
  {
   "cell_type": "code",
   "execution_count": 7,
   "id": "931cc286",
   "metadata": {},
   "outputs": [
    {
     "name": "stdout",
     "output_type": "stream",
     "text": [
      "{ name: \"paru\", age: 22, salary: 10000 }\n",
      "{ name: \"vidu\", age: 22, salary: 10000 }\n",
      "false\n"
     ]
    }
   ],
   "source": [
    "let student1 = {\n",
    "  name: 'vidu',\n",
    "  age: 22,\n",
    "  salary: 10000,\n",
    "};\n",
    "\n",
    "let student2 = { ...student1 };\n",
    "\n",
    "student1.name = 'paru';\n",
    "\n",
    "console.log(student1);\n",
    "console.log(student2);\n",
    "console.log(student1 === student2);\n"
   ]
  },
  {
   "cell_type": "code",
   "execution_count": 20,
   "id": "daccfed0",
   "metadata": {},
   "outputs": [
    {
     "name": "stdout",
     "output_type": "stream",
     "text": [
      "vijayanagara hbh\n",
      "vijayanagara hbh\n",
      "indore xyz\n"
     ]
    },
    {
     "data": {
      "text/plain": [
       "\u001b[33mtrue\u001b[39m"
      ]
     },
     "execution_count": 20,
     "metadata": {},
     "output_type": "execute_result"
    }
   ],
   "source": [
    "let student = {\n",
    "  name: 'vidu',\n",
    "  age: 20,\n",
    "  address: {\n",
    "    city: 'vijayanagara',\n",
    "    village: 'hbh',\n",
    "    printAddressInfo() {\n",
    "      console.log(this.city, this.village);\n",
    "    },\n",
    "  },\n",
    "};\n",
    "\n",
    "student.address.printAddressInfo(); // works\n",
    "\n",
    "let coolAddress = student.address;\n",
    "\n",
    "coolAddress.printAddressInfo(); // works\n",
    "\n",
    "let coolFunc = student.address.printAddressInfo;\n",
    "\n",
    "// coolFunc(); // fails\n",
    "\n",
    "coolFunc.call({\n",
    "  city: 'indore',\n",
    "  village: 'xyz',\n",
    "}); // calling with context\n",
    "\n",
    "coolAddress === student.address;\n"
   ]
  }
 ],
 "metadata": {
  "kernelspec": {
   "display_name": "Deno",
   "language": "typescript",
   "name": "deno"
  },
  "language_info": {
   "codemirror_mode": "typescript",
   "file_extension": ".ts",
   "mimetype": "text/x.typescript",
   "name": "typescript",
   "nbconvert_exporter": "script",
   "pygments_lexer": "typescript",
   "version": "5.5.2"
  }
 },
 "nbformat": 4,
 "nbformat_minor": 5
}
