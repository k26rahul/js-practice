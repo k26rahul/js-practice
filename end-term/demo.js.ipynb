{
 "cells": [
  {
   "cell_type": "code",
   "execution_count": 9,
   "id": "3997a6dd",
   "metadata": {},
   "outputs": [
    {
     "name": "stdout",
     "output_type": "stream",
     "text": [
      "Japan inside myFunc\n",
      "China inside myFunc\n"
     ]
    },
    {
     "data": {
      "text/plain": [
       "\u001b[32m\"hello Vishnu, you are very welcome to Japan\"\u001b[39m"
      ]
     },
     "execution_count": 9,
     "metadata": {},
     "output_type": "execute_result"
    }
   ],
   "source": [
    "/* \n",
    "Higher Order Function: A function that takes a function as an argument or returns a function as its result.\n",
    "e.g. myFunc\n",
    "\n",
    "Closure: A function that captures the lexical scope in which it was created, allowing it to remember the environment in which it was defined.\n",
    "e.g. welcomeToCountry\n",
    "*/\n",
    "\n",
    "function myFunc(country) {\n",
    "  console.log(`${country} inside myFunc`);\n",
    "\n",
    "  return function welcomeToCountry(myName) {\n",
    "    return `hello ${myName}, you are very welcome to ${country}`;\n",
    "  };\n",
    "}\n",
    "\n",
    "let welcomeToJapan = myFunc('Japan');\n",
    "let welcomeToChina = myFunc('China');\n",
    "\n",
    "welcomeToJapan('Vishnu');\n"
   ]
  },
  {
   "cell_type": "markdown",
   "id": "3a06e9de",
   "metadata": {},
   "source": [
    "- call(context, ...argsArr)\n",
    "- apply(context, argsArr)"
   ]
  },
  {
   "cell_type": "code",
   "execution_count": null,
   "id": "e12b072e",
   "metadata": {},
   "outputs": [
    {
     "name": "stdout",
     "output_type": "stream",
     "text": [
      "John Doe\n",
      "Jane Smith\n",
      "Jane Smith\n"
     ]
    }
   ],
   "source": [
    "const person = {\n",
    "  firstName: 'John',\n",
    "  lastName: 'Doe',\n",
    "  fullName: function () {\n",
    "    return `${this.firstName} ${this.lastName}`;\n",
    "  },\n",
    "};\n",
    "\n",
    "console.log(person.fullName());\n",
    "console.log(person.fullName.call({ firstName: 'Jane', lastName: 'Smith' }, 10, 20));\n",
    "console.log(person.fullName.apply({ firstName: 'Jane', lastName: 'Smith' }, [10, 20]));\n"
   ]
  },
  {
   "cell_type": "code",
   "execution_count": 8,
   "id": "edc68d26",
   "metadata": {},
   "outputs": [
    {
     "name": "stdout",
     "output_type": "stream",
     "text": [
      "John Doe\n",
      "Jane Smith\n"
     ]
    }
   ],
   "source": [
    "const person = {\n",
    "  firstName: 'John',\n",
    "  lastName: 'Doe',\n",
    "  fullName: function () {\n",
    "    return `${this.firstName} ${this.lastName}`;\n",
    "  },\n",
    "};\n",
    "\n",
    "console.log(person.fullName());\n",
    "\n",
    "const fullNameBound = person.fullName.bind({ firstName: 'Jane', lastName: 'Smith' });\n",
    "console.log(fullNameBound());\n"
   ]
  },
  {
   "cell_type": "code",
   "execution_count": 2,
   "id": "be4eb3eb",
   "metadata": {},
   "outputs": [
    {
     "data": {
      "text/plain": [
       "\u001b[33mNaN\u001b[39m"
      ]
     },
     "execution_count": 2,
     "metadata": {},
     "output_type": "execute_result"
    }
   ],
   "source": [
    "undefined + undefined;\n"
   ]
  },
  {
   "cell_type": "code",
   "execution_count": 1,
   "id": "8b610a25",
   "metadata": {},
   "outputs": [
    {
     "data": {
      "text/plain": [
       "{ principal: \u001b[33m0\u001b[39m, rate: \u001b[33m0\u001b[39m, time: \u001b[33m0\u001b[39m, finalAmount: \u001b[33mNaN\u001b[39m }"
      ]
     },
     "execution_count": 1,
     "metadata": {},
     "output_type": "execute_result"
    }
   ],
   "source": [
    "const obj = {\n",
    "  principal: 0,\n",
    "  rate: 0,\n",
    "  time: 0,\n",
    "  finalAmount: this.principal + this.rate,\n",
    "};\n",
    "\n",
    "obj;\n"
   ]
  },
  {
   "cell_type": "code",
   "execution_count": 5,
   "id": "4c2789a4",
   "metadata": {},
   "outputs": [
    {
     "name": "stdout",
     "output_type": "stream",
     "text": [
      "{ name: \"paru\", age: 22, salary: 10000 }\n",
      "{ name: \"paru\", age: 22, salary: 10000 }\n",
      "true\n"
     ]
    }
   ],
   "source": [
    "let student1 = {\n",
    "  name: 'vidu',\n",
    "  age: 22,\n",
    "  salary: 10000,\n",
    "};\n",
    "\n",
    "let student2 = student1;\n",
    "\n",
    "student1.name = 'paru';\n",
    "\n",
    "console.log(student1);\n",
    "console.log(student2);\n",
    "console.log(student1 === student2);\n"
   ]
  },
  {
   "cell_type": "code",
   "execution_count": 6,
   "id": "60a77804",
   "metadata": {},
   "outputs": [
    {
     "name": "stdout",
     "output_type": "stream",
     "text": [
      "{ name: \"paru\", age: 22, salary: 10000 }\n",
      "{ name: \"vidu\", age: 22, salary: 10000 }\n",
      "false\n"
     ]
    }
   ],
   "source": [
    "let student1 = {\n",
    "  name: 'vidu',\n",
    "  age: 22,\n",
    "  salary: 10000,\n",
    "};\n",
    "\n",
    "let student2 = {\n",
    "  name: 'vidu',\n",
    "  age: 22,\n",
    "  salary: 10000,\n",
    "};\n",
    "\n",
    "student1.name = 'paru';\n",
    "\n",
    "console.log(student1);\n",
    "console.log(student2);\n",
    "console.log(student1 === student2);\n"
   ]
  },
  {
   "cell_type": "code",
   "execution_count": 7,
   "id": "931cc286",
   "metadata": {},
   "outputs": [
    {
     "name": "stdout",
     "output_type": "stream",
     "text": [
      "{ name: \"paru\", age: 22, salary: 10000 }\n",
      "{ name: \"vidu\", age: 22, salary: 10000 }\n",
      "false\n"
     ]
    }
   ],
   "source": [
    "let student1 = {\n",
    "  name: 'vidu',\n",
    "  age: 22,\n",
    "  salary: 10000,\n",
    "};\n",
    "\n",
    "let student2 = { ...student1 };\n",
    "\n",
    "student1.name = 'paru';\n",
    "\n",
    "console.log(student1);\n",
    "console.log(student2);\n",
    "console.log(student1 === student2);\n"
   ]
  },
  {
   "cell_type": "code",
   "execution_count": 20,
   "id": "daccfed0",
   "metadata": {},
   "outputs": [
    {
     "name": "stdout",
     "output_type": "stream",
     "text": [
      "vijayanagara hbh\n",
      "vijayanagara hbh\n",
      "indore xyz\n"
     ]
    },
    {
     "data": {
      "text/plain": [
       "\u001b[33mtrue\u001b[39m"
      ]
     },
     "execution_count": 20,
     "metadata": {},
     "output_type": "execute_result"
    }
   ],
   "source": [
    "let student = {\n",
    "  name: 'vidu',\n",
    "  age: 20,\n",
    "  address: {\n",
    "    city: 'vijayanagara',\n",
    "    village: 'hbh',\n",
    "    printAddressInfo() {\n",
    "      console.log(this.city, this.village);\n",
    "    },\n",
    "  },\n",
    "};\n",
    "\n",
    "student.address.printAddressInfo(); // works\n",
    "\n",
    "let coolAddress = student.address;\n",
    "\n",
    "coolAddress.printAddressInfo(); // works\n",
    "\n",
    "let coolFunc = student.address.printAddressInfo;\n",
    "\n",
    "// coolFunc(); // fails\n",
    "\n",
    "coolFunc.call({\n",
    "  city: 'indore',\n",
    "  village: 'xyz',\n",
    "}); // calling with context\n",
    "\n",
    "coolAddress === student.address;\n"
   ]
  },
  {
   "cell_type": "code",
   "execution_count": null,
   "id": "4838f91b",
   "metadata": {},
   "outputs": [
    {
     "name": "stdout",
     "output_type": "stream",
     "text": [
      "number\n",
      "number\n",
      "string\n",
      "boolean\n",
      "object\n",
      "object\n",
      "function\n",
      "function\n",
      "object\n",
      "undefined\n",
      "number\n",
      "symbol\n"
     ]
    }
   ],
   "source": [
    "console.log(typeof 10); // number\n",
    "console.log(typeof 10.2); // number\n",
    "console.log(typeof 'vidu');\n",
    "console.log(typeof true);\n",
    "console.log(typeof [1, 2, 3]); // object\n",
    "console.log(typeof new Date());\n",
    "console.log(typeof function () {});\n",
    "console.log(typeof (() => {}));\n",
    "console.log(typeof null); // object\n",
    "console.log(typeof undefined); // undefined\n",
    "console.log(typeof NaN); // number\n",
    "console.log(typeof Symbol('vishnu')); // symbol\n"
   ]
  },
  {
   "cell_type": "code",
   "execution_count": 6,
   "id": "458dd990",
   "metadata": {},
   "outputs": [
    {
     "name": "stdout",
     "output_type": "stream",
     "text": [
      "25\n",
      "25\n",
      "115\n"
     ]
    }
   ],
   "source": [
    "function add(num1, num2, num3) {\n",
    "  return num1 + num2 + num3;\n",
    "}\n",
    "\n",
    "const boundAdd = add.bind(null, 5, 10);\n",
    "\n",
    "console.log(add(5, 10, 10));\n",
    "console.log(boundAdd(10));\n",
    "console.log(boundAdd(100));\n"
   ]
  },
  {
   "cell_type": "code",
   "execution_count": 9,
   "id": "b7d831fe",
   "metadata": {},
   "outputs": [
    {
     "name": "stdout",
     "output_type": "stream",
     "text": [
      "hello Vidu, you are very welcome to India\n",
      "hello Vishnu, you are very welcome to India\n"
     ]
    }
   ],
   "source": [
    "function greet(country, myName) {\n",
    "  return `hello ${myName}, you are very welcome to ${country}`;\n",
    "}\n",
    "\n",
    "console.log(greet('India', 'Vidu'));\n",
    "console.log(greet('India', 'Vishnu'));\n"
   ]
  },
  {
   "cell_type": "code",
   "execution_count": 17,
   "id": "a33f8554",
   "metadata": {},
   "outputs": [
    {
     "name": "stdout",
     "output_type": "stream",
     "text": [
      "hello Vidu, you are very welcome to India\n",
      "hello Vishnu, you are very welcome to India\n",
      "hello CMD, you are very welcome to China\n",
      "hello Paru, you are very welcome to China\n",
      "hello Muskan, you are very welcome to China\n"
     ]
    }
   ],
   "source": [
    "function greet(country, myName) {\n",
    "  return `hello ${myName}, you are very welcome to ${country}`;\n",
    "}\n",
    "\n",
    "const greetBoundIndia = greet.bind(null, 'India');\n",
    "const greetBoundChina = greet.bind(null, 'China');\n",
    "\n",
    "console.log(greetBoundIndia('Vidu'));\n",
    "console.log(greetBoundIndia('Vishnu'));\n",
    "console.log(greetBoundChina('CMD'));\n",
    "console.log(greetBoundChina('Paru'));\n",
    "console.log(greetBoundChina('Muskan'));\n"
   ]
  },
  {
   "cell_type": "code",
   "execution_count": 20,
   "id": "e6a4d74f",
   "metadata": {},
   "outputs": [
    {
     "name": "stdout",
     "output_type": "stream",
     "text": [
      "obj is [object Object]\n",
      "obj is: { y: 15 }\n",
      "[object Object]\n"
     ]
    }
   ],
   "source": [
    "const obj = {\n",
    "  y: 15,\n",
    "};\n",
    "\n",
    "console.log(`obj is ${obj}`);\n",
    "console.log(`obj is:`, obj);\n",
    "console.log(String(obj));\n"
   ]
  },
  {
   "cell_type": "code",
   "execution_count": 23,
   "id": "ff38369a",
   "metadata": {},
   "outputs": [
    {
     "name": "stdout",
     "output_type": "stream",
     "text": [
      "string\n",
      "string\n"
     ]
    }
   ],
   "source": [
    "console.log(typeof String(obj));\n",
    "console.log(typeof JSON.stringify(obj));\n"
   ]
  },
  {
   "cell_type": "code",
   "execution_count": 33,
   "id": "5394abd5",
   "metadata": {},
   "outputs": [
    {
     "name": "stdout",
     "output_type": "stream",
     "text": [
      "19\n",
      "apple\n",
      "true\n",
      "1,2,3\n",
      "omg i am vidu\n",
      "Thu Apr 10 2025 11:25:51 GMT+0530 (India Standard Time)\n"
     ]
    }
   ],
   "source": [
    "const myObj = {\n",
    "  name: 'vidu',\n",
    "\n",
    "  // this is triggered when u try to convert this obj into string\n",
    "  toString() {\n",
    "    return `omg i am ${this.name}`;\n",
    "  },\n",
    "};\n",
    "\n",
    "console.log(String(19));\n",
    "console.log(String('apple'));\n",
    "console.log(String(true));\n",
    "console.log(String([1, 2, 3]));\n",
    "console.log(String(myObj)); // omg i am vidu\n",
    "console.log(String(new Date()));\n"
   ]
  },
  {
   "cell_type": "code",
   "execution_count": 35,
   "id": "a80f1c5f",
   "metadata": {},
   "outputs": [
    {
     "name": "stdout",
     "output_type": "stream",
     "text": [
      "Window {}\n",
      "Window {}\n"
     ]
    }
   ],
   "source": [
    "const hello = () => {\n",
    "  console.log(this);\n",
    "};\n",
    "\n",
    "hello();\n",
    "\n",
    "const boundHello = hello.bind({ name: 'vidu' });\n",
    "boundHello();\n"
   ]
  },
  {
   "cell_type": "code",
   "execution_count": 2,
   "id": "622f1ad4",
   "metadata": {},
   "outputs": [
    {
     "data": {
      "text/plain": [
       "[ \u001b[32m\"apple\"\u001b[39m, \u001b[32m\"orange\"\u001b[39m, \u001b[32m\"banana\"\u001b[39m ]"
      ]
     },
     "execution_count": 2,
     "metadata": {},
     "output_type": "execute_result"
    }
   ],
   "source": [
    "let likeBanana = true;\n",
    "\n",
    "let fruits = ['apple', 'orange', likeBanana ? 'banana' : ''];\n",
    "\n",
    "fruits;\n"
   ]
  }
 ],
 "metadata": {
  "kernelspec": {
   "display_name": "Deno",
   "language": "typescript",
   "name": "deno"
  },
  "language_info": {
   "codemirror_mode": "typescript",
   "file_extension": ".ts",
   "mimetype": "text/x.typescript",
   "name": "typescript",
   "nbconvert_exporter": "script",
   "pygments_lexer": "typescript",
   "version": "5.5.2"
  }
 },
 "nbformat": 4,
 "nbformat_minor": 5
}
