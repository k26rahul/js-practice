{
 "cells": [
  {
   "cell_type": "code",
   "execution_count": 9,
   "id": "3997a6dd",
   "metadata": {},
   "outputs": [
    {
     "name": "stdout",
     "output_type": "stream",
     "text": [
      "Japan inside myFunc\n",
      "China inside myFunc\n"
     ]
    },
    {
     "data": {
      "text/plain": [
       "\u001b[32m\"hello Vishnu, you are very welcome to Japan\"\u001b[39m"
      ]
     },
     "execution_count": 9,
     "metadata": {},
     "output_type": "execute_result"
    }
   ],
   "source": [
    "/* \n",
    "Higher Order Function: A function that takes a function as an argument or returns a function as its result.\n",
    "e.g. myFunc\n",
    "\n",
    "Closure: A function that captures the lexical scope in which it was created, allowing it to remember the environment in which it was defined.\n",
    "e.g. welcomeToCountry\n",
    "*/\n",
    "\n",
    "function myFunc(country) {\n",
    "  console.log(`${country} inside myFunc`);\n",
    "\n",
    "  return function welcomeToCountry(myName) {\n",
    "    return `hello ${myName}, you are very welcome to ${country}`;\n",
    "  };\n",
    "}\n",
    "\n",
    "let welcomeToJapan = myFunc('Japan');\n",
    "let welcomeToChina = myFunc('China');\n",
    "\n",
    "welcomeToJapan('Vishnu');\n"
   ]
  }
 ],
 "metadata": {
  "kernelspec": {
   "display_name": "Deno",
   "language": "typescript",
   "name": "deno"
  },
  "language_info": {
   "codemirror_mode": "typescript",
   "file_extension": ".ts",
   "mimetype": "text/x.typescript",
   "name": "typescript",
   "nbconvert_exporter": "script",
   "pygments_lexer": "typescript",
   "version": "5.5.2"
  }
 },
 "nbformat": 4,
 "nbformat_minor": 5
}
