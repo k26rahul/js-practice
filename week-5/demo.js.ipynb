{
 "cells": [
  {
   "cell_type": "code",
   "execution_count": 16,
   "metadata": {},
   "outputs": [
    {
     "name": "stdout",
     "output_type": "stream",
     "text": [
      "[Function: greet]\n",
      "[Function: greet2]\n",
      "[Function: someName]\n"
     ]
    }
   ],
   "source": [
    "// regular function\n",
    "\n",
    "function greet() {\n",
    "  console.log('hello vidu');\n",
    "} // with name\n",
    "\n",
    "let greet2 = function () {\n",
    "  console.log('hello vidu');\n",
    "}; // anonymous\n",
    "\n",
    "let greet3 = function someName() {\n",
    "  console.log('hello vidu');\n",
    "}; // anonymous\n",
    "\n",
    "console.log(greet);\n",
    "console.log(greet2);\n",
    "console.log(greet3);\n"
   ]
  },
  {
   "cell_type": "code",
   "execution_count": 14,
   "metadata": {},
   "outputs": [],
   "source": [
    "// arrow function (alway anonymous)\n",
    "\n",
    "let greet4 = () => {\n",
    "  console.log('hello vidu');\n",
    "};\n"
   ]
  },
  {
   "cell_type": "code",
   "execution_count": null,
   "metadata": {},
   "outputs": [],
   "source": [
    "function submit() {\n",
    "  setTimeout(() => {\n",
    "    console.log('submitted successfully');\n",
    "  }, 1000)\n",
    "}\n",
    "\n",
    "function payment() {\n",
    "  console.log('payment done');\n",
    "}\n"
   ]
  },
  {
   "cell_type": "code",
   "execution_count": 21,
   "metadata": {},
   "outputs": [
    {
     "name": "stdout",
     "output_type": "stream",
     "text": [
      "going to submit\n",
      "submitted successfully\n",
      "going to payment\n",
      "payment done\n"
     ]
    }
   ],
   "source": [
    "console.log('going to submit');\n",
    "submit();\n",
    "\n",
    "console.log('going to payment');\n",
    "payment();\n"
   ]
  },
  {
   "cell_type": "code",
   "execution_count": 28,
   "metadata": {},
   "outputs": [
    {
     "name": "stdout",
     "output_type": "stream",
     "text": [
      "hello vidu\n",
      "callback is actually: function newGreet() {\n",
      "  console.log('inside newGreet()');\n",
      "}\n",
      "inside newGreet()\n"
     ]
    }
   ],
   "source": [
    "function newGreet() {\n",
    "  console.log('inside newGreet()');\n",
    "}\n",
    "\n",
    "function hello(callback) {\n",
    "  console.log('hello vidu');\n",
    "  console.log(`callback is actually: ${callback}`);\n",
    "  callback();\n",
    "}\n",
    "\n",
    "hello(newGreet);\n"
   ]
  },
  {
   "cell_type": "markdown",
   "metadata": {},
   "source": [
    "functions are first class citizens\n",
    "\n",
    "1. functions can be assigned to variables,\n",
    "1. passed as arguments,\n",
    "1. and returned from other functions. "
   ]
  },
  {
   "cell_type": "code",
   "execution_count": 50,
   "metadata": {},
   "outputs": [
    {
     "name": "stdout",
     "output_type": "stream",
     "text": [
      "god() is working...\n",
      "u are blessed\n",
      "i got Rs.100 from god\n"
     ]
    }
   ],
   "source": [
    "function god() {\n",
    "  console.log('god() is working...');\n",
    "  return function getBlessing() {\n",
    "    console.log('u are blessed');\n",
    "    return 100;\n",
    "  };\n",
    "}\n",
    "\n",
    "let blessingOfGod = god();\n",
    "\n",
    "let money = blessingOfGod();\n",
    "\n",
    "console.log(`i got Rs.${money} from god`);\n"
   ]
  },
  {
   "cell_type": "code",
   "execution_count": 45,
   "metadata": {},
   "outputs": [
    {
     "name": "stdout",
     "output_type": "stream",
     "text": [
      "test is passed\n"
     ]
    }
   ],
   "source": [
    "function test() {\n",
    "  return 'test is passed';\n",
    "}\n",
    "\n",
    "console.log(test());\n"
   ]
  },
  {
   "cell_type": "code",
   "execution_count": 63,
   "metadata": {},
   "outputs": [
    {
     "name": "stdout",
     "output_type": "stream",
     "text": [
      "nuke launch successful\n",
      "hello president, mission done, china destroyed\n",
      "satellite launch successful\n",
      "hello NASA, mission done, satellite launched in space\n"
     ]
    }
   ],
   "source": [
    "function msgPred() {\n",
    "  console.log('hello president, mission done, china destroyed');\n",
    "}\n",
    "\n",
    "function msgNASA() {\n",
    "  console.log('hello NASA, mission done, satellite launched in space');\n",
    "}\n",
    "\n",
    "function launch(payload, callback) {\n",
    "  console.log(`${payload} launch successful`);\n",
    "  callback();\n",
    "}\n",
    "\n",
    "launch('nuke', msgPred);\n",
    "launch('satellite', msgNASA);\n"
   ]
  },
  {
   "cell_type": "code",
   "execution_count": 4,
   "metadata": {},
   "outputs": [
    {
     "data": {
      "text/plain": [
       "\u001b[33m50\u001b[39m"
      ]
     },
     "execution_count": 4,
     "metadata": {},
     "output_type": "execute_result"
    }
   ],
   "source": [
    "function add(x, y, z) {\n",
    "  return x + y + z;\n",
    "}\n",
    "\n",
    "let numbers = [10, 20, 20, 100];\n",
    "\n",
    "add(...numbers);\n"
   ]
  },
  {
   "cell_type": "code",
   "execution_count": 21,
   "metadata": {},
   "outputs": [
    {
     "name": "stdout",
     "output_type": "stream",
     "text": [
      "50\n",
      "50\n",
      "50\n"
     ]
    }
   ],
   "source": [
    "function add(x, y, z) {\n",
    "  return x + y + z;\n",
    "}\n",
    "\n",
    "let numbers = [10, 20, 20, 100, 500, 1000];\n",
    "\n",
    "console.log(add(...numbers)); // 3\n",
    "\n",
    "console.log(add.call(null, ...numbers)); // 3\n",
    "console.log(add.apply(null, numbers)); // 1\n"
   ]
  },
  {
   "cell_type": "markdown",
   "metadata": {},
   "source": [
    "promise:\n",
    " - pending \n",
    " - fulfilled\n",
    "   - resolved (success)\n",
    "   - rejected (failed)"
   ]
  },
  {
   "cell_type": "code",
   "execution_count": 1,
   "metadata": {},
   "outputs": [
    {
     "data": {
      "text/plain": [
       "\u001b[33m160\u001b[39m"
      ]
     },
     "execution_count": 1,
     "metadata": {},
     "output_type": "execute_result"
    }
   ],
   "source": [
    "function add(rahul, harikesh) {\n",
    "  return rahul + harikesh;\n",
    "}\n",
    "\n",
    "let student1 = {\n",
    "  marks: 100,\n",
    "};\n",
    "\n",
    "let student2 = {\n",
    "  marks: 60,\n",
    "};\n",
    "\n",
    "add(student1.marks, student2.marks);\n"
   ]
  },
  {
   "cell_type": "code",
   "execution_count": null,
   "metadata": {},
   "outputs": [
    {
     "name": "stdout",
     "output_type": "stream",
     "text": [
      "we are the best!\n"
     ]
    }
   ],
   "source": [
    "function coolFn() {\n",
    "  return {\n",
    "    name: 'vidu',\n",
    "    message: 'we are the best!',\n",
    "  };\n",
    "}\n",
    "\n",
    "// coolFn().then(() => {\n",
    "//   console.log()\n",
    "//   console.log()\n",
    "//   payment().then(() => {\n",
    "//     message()\n",
    "//   })\n",
    "// })\n"
   ]
  },
  {
   "cell_type": "code",
   "execution_count": 17,
   "metadata": {},
   "outputs": [
    {
     "name": "stdout",
     "output_type": "stream",
     "text": [
      "making greetForIndia ...\n",
      "making greetForChina ...\n",
      "making greetForUSA ...\n",
      "all function created successfully, enjoy!!\n",
      "hello rahul, welcome to India\n",
      "hello vidu, welcome to India\n",
      "hello cmd, welcome to India\n",
      "hello harikesh, welcome to China\n"
     ]
    }
   ],
   "source": [
    "// greetFactory is a HOF (higher order function)\n",
    "\n",
    "function greetFactory(country) {\n",
    "  console.log(`making greetFor${country} ...`);\n",
    "\n",
    "  return function (visitor) {\n",
    "    console.log(`hello ${visitor}, welcome to ${country}`);\n",
    "  };\n",
    "}\n",
    "\n",
    "let greetForIndia = greetFactory('India');\n",
    "let greetForChina = greetFactory('China');\n",
    "let greetForUSA = greetFactory('USA');\n",
    "\n",
    "console.log('all function created successfully, enjoy!!');\n",
    "\n",
    "greetForIndia('rahul');\n",
    "greetForIndia('vidu');\n",
    "greetForIndia('cmd');\n",
    "greetForChina('harikesh');\n"
   ]
  },
  {
   "cell_type": "markdown",
   "metadata": {},
   "source": [
    "good: callbacks\n",
    "\n",
    "more good: promises\n",
    " - then\n",
    " - async await"
   ]
  },
  {
   "cell_type": "code",
   "execution_count": 21,
   "metadata": {},
   "outputs": [
    {
     "name": "stdout",
     "output_type": "stream",
     "text": [
      "21 22\n"
     ]
    }
   ],
   "source": [
    "let student1 = {\n",
    "  name: 'vidu',\n",
    "  age: 21,\n",
    "};\n",
    "\n",
    "let student2 = {\n",
    "  name: 'rahul',\n",
    "  age: 22,\n",
    "};\n",
    "\n",
    "let { age: viduAge } = student1;\n",
    "let { age: rahulAge } = student2;\n",
    "\n",
    "console.log(viduAge, rahulAge);\n"
   ]
  },
  {
   "cell_type": "code",
   "execution_count": 26,
   "metadata": {},
   "outputs": [
    {
     "name": "stdout",
     "output_type": "stream",
     "text": [
      "20 90 40\n"
     ]
    }
   ],
   "source": [
    "let arr = [20, 90, 40];\n",
    "\n",
    "let [x, y, zulu] = arr;\n",
    "\n",
    "console.log(x, y, zulu);\n"
   ]
  },
  {
   "cell_type": "code",
   "execution_count": 29,
   "metadata": {},
   "outputs": [
    {
     "name": "stdout",
     "output_type": "stream",
     "text": [
      "rahul\n",
      "rahul\n",
      "rahul\n"
     ]
    }
   ],
   "source": [
    "function getName() {\n",
    "  return 'rahul';\n",
    "}\n",
    "\n",
    "console.log(getName());\n",
    "console.log(getName());\n",
    "console.log(getName());\n"
   ]
  },
  {
   "cell_type": "code",
   "execution_count": 39,
   "metadata": {},
   "outputs": [
    {
     "name": "stdout",
     "output_type": "stream",
     "text": [
      "{ value: \"vidu\", done: false }\n",
      "{ value: \"rahul\", done: false }\n",
      "{ value: \"vidu\", done: false }\n"
     ]
    }
   ],
   "source": [
    "function* getName() {\n",
    "  yield 'vidu';\n",
    "\n",
    "  yield 'rahul';\n",
    "\n",
    "  yield 'cmd';\n",
    "}\n",
    "\n",
    "let generator1 = getName();\n",
    "let generator2 = getName();\n",
    "\n",
    "console.log(generator1.next());\n",
    "console.log(generator1.next());\n",
    "console.log(generator2.next());\n"
   ]
  },
  {
   "cell_type": "code",
   "execution_count": 2,
   "metadata": {},
   "outputs": [
    {
     "data": {
      "text/plain": [
       "\u001b[33m30\u001b[39m"
      ]
     },
     "execution_count": 2,
     "metadata": {},
     "output_type": "execute_result"
    }
   ],
   "source": [
    "function add(a, b) {\n",
    "  return a + b;\n",
    "}\n",
    "\n",
    "add(10, 20);\n"
   ]
  },
  {
   "cell_type": "code",
   "execution_count": 12,
   "metadata": {},
   "outputs": [
    {
     "name": "stdout",
     "output_type": "stream",
     "text": [
      "hello 190\n"
     ]
    }
   ],
   "source": [
    "function greet(something) {\n",
    "  console.log(`hello ${something}`);\n",
    "}\n",
    "\n",
    "function add(a, b) {\n",
    "  return a + b;\n",
    "}\n",
    "\n",
    "greet(add(100, 90));\n"
   ]
  },
  {
   "cell_type": "code",
   "execution_count": 13,
   "metadata": {},
   "outputs": [
    {
     "name": "stdout",
     "output_type": "stream",
     "text": [
      "1\n"
     ]
    }
   ],
   "source": [
    "let something = setTimeout();\n",
    "\n",
    "console.log(something);\n"
   ]
  },
  {
   "cell_type": "code",
   "execution_count": 14,
   "metadata": {},
   "outputs": [
    {
     "ename": "TypeError",
     "evalue": "Promise resolver 1 is not a function",
     "output_type": "error",
     "traceback": [
      "Stack trace:",
      "TypeError: Promise resolver 1 is not a function",
      "    at new Promise (<anonymous>)",
      "    at <anonymous>:1:22"
     ]
    }
   ],
   "source": [
    "new Promise(1);\n"
   ]
  },
  {
   "cell_type": "code",
   "execution_count": 17,
   "metadata": {},
   "outputs": [
    {
     "data": {
      "text/plain": [
       "Promise { \u001b[36m<pending>\u001b[39m }"
      ]
     },
     "execution_count": 17,
     "metadata": {},
     "output_type": "execute_result"
    }
   ],
   "source": [
    "new Promise((resolve, reject) => {\n",
    "  setTimeout(() => {\n",
    "    resolve();\n",
    "  }, 2000);\n",
    "});\n"
   ]
  },
  {
   "cell_type": "code",
   "execution_count": 5,
   "metadata": {},
   "outputs": [
    {
     "name": "stdout",
     "output_type": "stream",
     "text": [
      "undefined\n"
     ]
    }
   ],
   "source": [
    "function add(a, b) {\n",
    "  a + b;\n",
    "  // return a + b;\n",
    "  // return 'hello vidu, this is a beautiful day';\n",
    "}\n",
    "\n",
    "let something = add(10, 20);\n",
    "\n",
    "console.log(something);\n"
   ]
  }
 ],
 "metadata": {
  "kernelspec": {
   "display_name": "Deno",
   "language": "typescript",
   "name": "deno"
  },
  "language_info": {
   "codemirror_mode": "typescript",
   "file_extension": ".ts",
   "mimetype": "text/x.typescript",
   "name": "typescript",
   "nbconvert_exporter": "script",
   "pygments_lexer": "typescript",
   "version": "5.5.2"
  }
 },
 "nbformat": 4,
 "nbformat_minor": 2
}
