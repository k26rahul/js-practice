{
 "cells": [
  {
   "cell_type": "code",
   "execution_count": 1,
   "metadata": {},
   "outputs": [
    {
     "data": {
      "text/plain": [
       "'RAHUL'"
      ]
     },
     "execution_count": 1,
     "metadata": {},
     "output_type": "execute_result"
    }
   ],
   "source": [
    "student = {\n",
    "    \"name\": \"vidu\",\n",
    "    \"age\": 21,\n",
    "}  # student is a dict variable\n",
    "\n",
    "student = 'rahul'  # student is a str\n",
    "\n",
    "student.upper()\n",
    "# ^ object   ^ method\n",
    "\n",
    "# request.method == 'GET'\n",
    "# ^ obj    ^ property\n",
    "\n",
    "# object (Car)\n",
    "# property: color, size, model, seats, fuel_level, speed\n",
    "# eg. ertiga.speed, ertiga.color, xylo.fuel_level\n",
    "\n",
    "# methods: like functions but specific to that object, for some action/operation related to that obj\n",
    "# eg. ertiga.start(), ertiga.accel(), ertiga.handbrake(), ertiga.all_window_up()\n",
    "\n",
    "# ?? eg. ertiga (Car, Vehicle), xylo (Car, Vehicle), scooty (Bike, Vehicle), school_bus (Bus, Vehicle)\n",
    "# every object has some `blueprint`: the class of that obj\n",
    "# eg. Car, Bike, Vehicle, Bus\n",
    "\n",
    "# blueprint: defines what properties & methods obj will have\n",
    "# eg. Vehicle: no_of_wheels, no_of_seats, start(), stop(), refuel(), color, model, brand\n",
    "# eg. Car: all_window_up(), open_sunroof(), ...\n",
    "# eg. Scooty: open_diggi(), ...\n",
    "# eg. Bus:"
   ]
  },
  {
   "cell_type": "code",
   "execution_count": 2,
   "metadata": {},
   "outputs": [
    {
     "data": {
      "text/plain": [
       "[19, 15]"
      ]
     },
     "execution_count": 2,
     "metadata": {},
     "output_type": "execute_result"
    }
   ],
   "source": [
    "L = [10, 15]\n",
    "\n",
    "L[0] = 19\n",
    "\n",
    "L"
   ]
  },
  {
   "cell_type": "code",
   "execution_count": 3,
   "metadata": {},
   "outputs": [
    {
     "ename": "TypeError",
     "evalue": "'tuple' object does not support item assignment",
     "output_type": "error",
     "traceback": [
      "\u001b[1;31m---------------------------------------------------------------------------\u001b[0m",
      "\u001b[1;31mTypeError\u001b[0m                                 Traceback (most recent call last)",
      "Cell \u001b[1;32mIn[3], line 3\u001b[0m\n\u001b[0;32m      1\u001b[0m L \u001b[38;5;241m=\u001b[39m (\u001b[38;5;241m10\u001b[39m, \u001b[38;5;241m15\u001b[39m)\n\u001b[1;32m----> 3\u001b[0m \u001b[43mL\u001b[49m\u001b[43m[\u001b[49m\u001b[38;5;241;43m0\u001b[39;49m\u001b[43m]\u001b[49m \u001b[38;5;241m=\u001b[39m \u001b[38;5;241m19\u001b[39m\n",
      "\u001b[1;31mTypeError\u001b[0m: 'tuple' object does not support item assignment"
     ]
    }
   ],
   "source": [
    "L = (10, 15)\n",
    "\n",
    "L[0] = 19"
   ]
  }
 ],
 "metadata": {
  "kernelspec": {
   "display_name": "Python 3",
   "language": "python",
   "name": "python3"
  },
  "language_info": {
   "codemirror_mode": {
    "name": "ipython",
    "version": 3
   },
   "file_extension": ".py",
   "mimetype": "text/x-python",
   "name": "python",
   "nbconvert_exporter": "python",
   "pygments_lexer": "ipython3",
   "version": "3.12.6"
  }
 },
 "nbformat": 4,
 "nbformat_minor": 2
}
