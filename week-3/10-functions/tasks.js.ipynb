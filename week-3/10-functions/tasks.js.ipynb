{
 "cells": [
  {
   "cell_type": "markdown",
   "metadata": {},
   "source": [
    "### Task 1: Reverse String\n",
    "\n",
    "Write a function `reverseString(str)` that:\n",
    "\n",
    "- Takes a string `str` and returns it reversed."
   ]
  },
  {
   "cell_type": "code",
   "execution_count": 21,
   "metadata": {},
   "outputs": [],
   "source": [
    "import { reverseString } from './solutions.js';\n",
    "import { reverseString2 } from './solutions.js';\n"
   ]
  },
  {
   "cell_type": "code",
   "execution_count": 22,
   "metadata": {},
   "outputs": [
    {
     "name": "stdout",
     "output_type": "stream",
     "text": [
      "All tests passed ✅\n"
     ]
    }
   ],
   "source": [
    "console.assert(reverseString('a') === 'a', 'Case 1/5');\n",
    "console.assert(reverseString('ab') === 'ba', 'Case 2/5');\n",
    "console.assert(reverseString('hello') === 'olleh', 'Case 3/5');\n",
    "console.assert(reverseString('hello world') === 'dlrow olleh', 'Case 4/5');\n",
    "console.assert(reverseString('') === '', 'Case 5/5');\n",
    "console.log('All tests passed ✅');\n"
   ]
  },
  {
   "cell_type": "markdown",
   "metadata": {},
   "source": [
    "### Task 2: Capitalize First Letter\n",
    "\n",
    "Write a function `capitalizeFirstLetter(str)` that:\n",
    "\n",
    "- Takes a string `str` and returns the string with the first letter capitalized, and the rest of the letters in lowercase."
   ]
  },
  {
   "cell_type": "code",
   "execution_count": 23,
   "metadata": {},
   "outputs": [],
   "source": [
    "import { capitalizeFirstLetter } from './solutions.js';\n"
   ]
  },
  {
   "cell_type": "code",
   "execution_count": 24,
   "metadata": {},
   "outputs": [
    {
     "name": "stdout",
     "output_type": "stream",
     "text": [
      "All tests passed ✅\n"
     ]
    }
   ],
   "source": [
    "console.assert(capitalizeFirstLetter('hello') === 'Hello', 'Case 1/4');\n",
    "console.assert(capitalizeFirstLetter('HELLO') === 'Hello', 'Case 2/4');\n",
    "console.assert(capitalizeFirstLetter('hELLo') === 'Hello', 'Case 3/4');\n",
    "console.assert(capitalizeFirstLetter('h') === 'H', 'Case 4/4');\n",
    "console.log('All tests passed ✅');\n"
   ]
  },
  {
   "cell_type": "markdown",
   "metadata": {},
   "source": [
    "### Task 3: Sort String Alphabetically\n",
    "\n",
    "Write a function `sortStringAlphabetically(str)` that:\n",
    "\n",
    "- Takes a string `str` and sorts its characters alphabetically.\n",
    "- Returns the sorted string."
   ]
  },
  {
   "cell_type": "code",
   "execution_count": 25,
   "metadata": {},
   "outputs": [],
   "source": [
    "import { sortStringAlphabetically } from './solutions.js';\n"
   ]
  },
  {
   "cell_type": "code",
   "execution_count": 26,
   "metadata": {},
   "outputs": [
    {
     "name": "stdout",
     "output_type": "stream",
     "text": [
      "All tests passed ✅\n"
     ]
    }
   ],
   "source": [
    "console.assert(sortStringAlphabetically('banana') === 'aaabnn', 'Case 1/6');\n",
    "console.assert(sortStringAlphabetically('aPple') === 'Paelp', 'Case 2/6');\n",
    "console.assert(sortStringAlphabetically('ZyWx') === 'WZxy', 'Case 3/6');\n",
    "console.assert(sortStringAlphabetically('15432') === '12345', 'Case 4/6');\n",
    "console.assert(sortStringAlphabetically('a1b2c3') === '123abc', 'Case 5/6');\n",
    "console.assert(sortStringAlphabetically('hello world') === ' dehllloorw', 'Case 6/6');\n",
    "console.log('All tests passed ✅');\n"
   ]
  },
  {
   "cell_type": "markdown",
   "metadata": {},
   "source": [
    "### Task 4: Number of Vowels\n",
    "\n",
    "Write a function `countVowels(str)` that:\n",
    "\n",
    "- Takes a string `str` and returns the number of vowels (a, e, i, o, u) in that string.\n",
    "- Consider both uppercase and lowercase vowels."
   ]
  },
  {
   "cell_type": "code",
   "execution_count": 27,
   "metadata": {},
   "outputs": [],
   "source": [
    "import { countVowels } from './solutions.js';\n"
   ]
  },
  {
   "cell_type": "code",
   "execution_count": 28,
   "metadata": {},
   "outputs": [
    {
     "name": "stdout",
     "output_type": "stream",
     "text": [
      "All tests passed ✅\n"
     ]
    }
   ],
   "source": [
    "console.assert(countVowels('hello') === 2, 'Case 1/4');\n",
    "console.assert(countVowels('aeiou') === 5, 'Case 2/4');\n",
    "console.assert(countVowels('AEIOU') === 5, 'Case 3/4');\n",
    "console.assert(countVowels('try') === 0, 'Case 4/4');\n",
    "console.log('All tests passed ✅');\n"
   ]
  },
  {
   "cell_type": "markdown",
   "metadata": {},
   "source": [
    "### Task 5: Sum of Numbers\n",
    "\n",
    "Write a function `sumOfNumbers(arr)` that:\n",
    "\n",
    "- Takes an array of numbers `arr` and returns the sum of all numbers."
   ]
  },
  {
   "cell_type": "code",
   "execution_count": 29,
   "metadata": {},
   "outputs": [],
   "source": [
    "import { sumOfNumbers } from './solutions.js';\n",
    "import { sumOfNumbers2 } from './solutions.js';\n"
   ]
  },
  {
   "cell_type": "code",
   "execution_count": 30,
   "metadata": {},
   "outputs": [
    {
     "name": "stdout",
     "output_type": "stream",
     "text": [
      "All tests passed ✅\n"
     ]
    }
   ],
   "source": [
    "console.assert(sumOfNumbers([1, 2, 3, 4, 5]) === 15, 'Case 1/3');\n",
    "console.assert(sumOfNumbers([10, 20, 30]) === 60, 'Case 2/3');\n",
    "console.assert(sumOfNumbers([1, -1, 1, -1]) === 0, 'Case 3/3');\n",
    "console.log('All tests passed ✅');\n"
   ]
  },
  {
   "cell_type": "markdown",
   "metadata": {},
   "source": [
    "### Task 6: Find Maximum\n",
    "\n",
    "Write a function `findMax(arr)` that:\n",
    "\n",
    "- Takes an array of numbers `arr` and returns the maximum number."
   ]
  },
  {
   "cell_type": "code",
   "execution_count": 31,
   "metadata": {},
   "outputs": [],
   "source": [
    "import { findMax } from './solutions.js';\n",
    "import { findMax2 } from './solutions.js';\n"
   ]
  },
  {
   "cell_type": "code",
   "execution_count": 32,
   "metadata": {},
   "outputs": [
    {
     "name": "stdout",
     "output_type": "stream",
     "text": [
      "All tests passed ✅\n"
     ]
    }
   ],
   "source": [
    "console.assert(findMax([1, 2, 3, 4, 5]) === 5, 'Case 1/3');\n",
    "console.assert(findMax([10, 20, 30]) === 30, 'Case 2/3');\n",
    "console.assert(findMax([-1, -2, -3]) === -1, 'Case 3/3');\n",
    "console.log('All tests passed ✅');\n"
   ]
  },
  {
   "cell_type": "markdown",
   "metadata": {},
   "source": [
    "### Task 7: Convert Years to Age\n",
    "\n",
    "Write a function `convertYearsToAge(yearOfBirth)` that:\n",
    "\n",
    "- Takes a number `yearOfBirth` representing the user's year of birth.\n",
    "- Returns the user's age based on the current year."
   ]
  },
  {
   "cell_type": "code",
   "execution_count": 33,
   "metadata": {},
   "outputs": [],
   "source": [
    "import { convertYearsToAge } from './solutions.js';\n"
   ]
  },
  {
   "cell_type": "code",
   "execution_count": 34,
   "metadata": {},
   "outputs": [
    {
     "name": "stdout",
     "output_type": "stream",
     "text": [
      "All tests passed ✅\n"
     ]
    }
   ],
   "source": [
    "console.assert(convertYearsToAge(1990) === 35, 'Case 1/3'); // Assuming current year is 2025\n",
    "console.assert(convertYearsToAge(2000) === 25, 'Case 2/3'); // Assuming current year is 2025\n",
    "console.assert(convertYearsToAge(2010) === 15, 'Case 3/3'); // Assuming current year is 2025\n",
    "console.log('All tests passed ✅');\n"
   ]
  },
  {
   "cell_type": "markdown",
   "metadata": {},
   "source": [
    "### Task 8: File Type Detector\n",
    "\n",
    "Write a function `getFileType(fileName)` that:\n",
    "\n",
    "- Takes a string `fileName` which includes the file extension.\n",
    "- Returns a string indicating whether it's an image, video, or document file based on the file extension.\n",
    "  - Example: `\"It's image file\"`, `\"It's video file\"`, `\"It's document file\"`.\n",
    "  - If the file extension doesn't match any of the listed types, return `\"It's unknown file\"`.\n",
    "- The function should be case-insensitive for extensions.\n",
    "\n",
    "**Extensions:**\n",
    "\n",
    "- Images: `.jpg`, `.png`, `.gif`, `.bmp`, `.jpeg`\n",
    "- Videos: `.mp4`, `.avi`, `.mov`, `.mkv`, `.flv`\n",
    "- Documents: `.docx`, `.pdf`, `.txt`, `.pptx`, `.xlsx`"
   ]
  },
  {
   "cell_type": "code",
   "execution_count": 35,
   "metadata": {},
   "outputs": [],
   "source": [
    "import { getFileType } from './solutions.js';\n"
   ]
  },
  {
   "cell_type": "code",
   "execution_count": 36,
   "metadata": {},
   "outputs": [
    {
     "name": "stdout",
     "output_type": "stream",
     "text": [
      "All tests passed ✅\n"
     ]
    }
   ],
   "source": [
    "console.assert(getFileType('example.jpg') === \"It's image file\", 'Case 1/4');\n",
    "console.assert(getFileType('movie.MP4') === \"It's video file\", 'Case 2/4');\n",
    "console.assert(getFileType('REPORT.docx') === \"It's document file\", 'Case 3/4');\n",
    "console.assert(getFileType('unknown.XYZ') === \"It's unknown file\", 'Case 4/4');\n",
    "console.log('All tests passed ✅');\n"
   ]
  },
  {
   "cell_type": "markdown",
   "metadata": {},
   "source": [
    "### Task 9: Get Time Message\n",
    "\n",
    "Write a function `getTimeMessage(isoString)` that:\n",
    "\n",
    "- Takes an ISO date string (`YYYY-MM-DDTHH:MM:SS`).\n",
    "- Returns a string like:  \n",
    "  `\"Today is Sunday. It's 10:45 AM. It's morning/afternoon/evening/night.\"`\n",
    "\n",
    "**Hint:** Use `new Date(isoString)` to create a Date object.\n"
   ]
  },
  {
   "cell_type": "code",
   "execution_count": 37,
   "metadata": {},
   "outputs": [],
   "source": [
    "import { getTimeMessage } from './solutions.js';\n"
   ]
  },
  {
   "cell_type": "code",
   "execution_count": 38,
   "metadata": {},
   "outputs": [
    {
     "name": "stdout",
     "output_type": "stream",
     "text": [
      "All tests passed ✅\n"
     ]
    }
   ],
   "source": [
    "console.assert(\n",
    "  getTimeMessage('2025-01-26T10:45:00') === \"Today is Sunday. It's 10:45 AM. It's morning.\",\n",
    "  'Case 1/4'\n",
    ");\n",
    "console.assert(\n",
    "  getTimeMessage('2025-01-26T15:30:00') === \"Today is Sunday. It's 3:30 PM. It's afternoon.\",\n",
    "  'Case 2/4'\n",
    ");\n",
    "console.assert(\n",
    "  getTimeMessage('2025-01-27T21:15:00') === \"Today is Monday. It's 9:15 PM. It's evening.\",\n",
    "  'Case 3/4'\n",
    ");\n",
    "console.assert(\n",
    "  getTimeMessage('2025-01-27T23:00:00') === \"Today is Monday. It's 11:00 PM. It's night.\",\n",
    "  'Case 4/4'\n",
    ");\n",
    "console.log('All tests passed ✅');\n"
   ]
  },
  {
   "cell_type": "markdown",
   "metadata": {},
   "source": [
    "### Task 10: Years With Sunday\n",
    "\n",
    "Write a function `getYearsWithSundayOnJanuaryFirst()` that:\n",
    "\n",
    "- Takes no parameters.\n",
    "- Returns an array of years between 2000 and 2050 (both inclusive) where January 1st falls on a Sunday."
   ]
  },
  {
   "cell_type": "code",
   "execution_count": 39,
   "metadata": {},
   "outputs": [],
   "source": [
    "import { getYearsWithSundayOnJanuaryFirst } from './solutions.js';\n"
   ]
  },
  {
   "cell_type": "code",
   "execution_count": 40,
   "metadata": {},
   "outputs": [
    {
     "name": "stdout",
     "output_type": "stream",
     "text": [
      "All tests passed ✅\n"
     ]
    }
   ],
   "source": [
    "console.assert(\n",
    "  getTimeMessage('2025-01-26T10:45:00') === \"Today is Sunday. It's 10:45 AM. It's morning.\",\n",
    "  'Case 1/4'\n",
    ");\n",
    "console.assert(\n",
    "  getTimeMessage('2025-01-26T15:30:00') === \"Today is Sunday. It's 3:30 PM. It's afternoon.\",\n",
    "  'Case 2/4'\n",
    ");\n",
    "console.assert(\n",
    "  getTimeMessage('2025-01-27T21:15:00') === \"Today is Monday. It's 9:15 PM. It's evening.\",\n",
    "  'Case 3/4'\n",
    ");\n",
    "console.assert(\n",
    "  getTimeMessage('2025-01-27T23:00:00') === \"Today is Monday. It's 11:00 PM. It's night.\",\n",
    "  'Case 4/4'\n",
    ");\n",
    "console.log('All tests passed ✅');\n"
   ]
  }
 ],
 "metadata": {
  "kernelspec": {
   "display_name": "Deno",
   "language": "typescript",
   "name": "deno"
  },
  "language_info": {
   "codemirror_mode": "typescript",
   "file_extension": ".ts",
   "mimetype": "text/x.typescript",
   "name": "typescript",
   "nbconvert_exporter": "script",
   "pygments_lexer": "typescript",
   "version": "5.5.2"
  }
 },
 "nbformat": 4,
 "nbformat_minor": 2
}
